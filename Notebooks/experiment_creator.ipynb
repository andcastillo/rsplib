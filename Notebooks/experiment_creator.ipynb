{
 "cells": [
  {
   "cell_type": "code",
   "execution_count": 1,
   "metadata": {},
   "outputs": [
    {
     "name": "stdout",
     "output_type": "stream",
     "text": [
      "Processing /home/jovyan/work\n",
      "Installing collected packages: rsplib\n",
      "  Found existing installation: rsplib 0.2.2\n",
      "    Uninstalling rsplib-0.2.2:\n",
      "      Successfully uninstalled rsplib-0.2.2\n",
      "  Running setup.py install for rsplib ... \u001b[?25ldone\n",
      "\u001b[?25hSuccessfully installed rsplib-0.2.2\n"
     ]
    }
   ],
   "source": [
    "!pip install . --upgrade"
   ]
  },
  {
   "cell_type": "code",
   "execution_count": null,
   "metadata": {},
   "outputs": [
    {
     "name": "stdout",
     "output_type": "stream",
     "text": [
      "Uninstalling rsplib-0.2.1:\r\n",
      "  /opt/conda/lib/python3.5/site-packages/rsplib-0.2.1.dist-info/DESCRIPTION.rst\r\n",
      "  /opt/conda/lib/python3.5/site-packages/rsplib-0.2.1.dist-info/INSTALLER\r\n",
      "  /opt/conda/lib/python3.5/site-packages/rsplib-0.2.1.dist-info/METADATA\r\n",
      "  /opt/conda/lib/python3.5/site-packages/rsplib-0.2.1.dist-info/RECORD\r\n",
      "  /opt/conda/lib/python3.5/site-packages/rsplib-0.2.1.dist-info/WHEEL\r\n",
      "  /opt/conda/lib/python3.5/site-packages/rsplib-0.2.1.dist-info/metadata.json\r\n",
      "  /opt/conda/lib/python3.5/site-packages/rsplib-0.2.1.dist-info/top_level.txt\r\n",
      "  /opt/conda/lib/python3.5/site-packages/rsplib/__init__.py\r\n",
      "  /opt/conda/lib/python3.5/site-packages/rsplib/__pycache__/__init__.cpython-35.pyc\r\n",
      "Proceed (y/n)? "
     ]
    }
   ],
   "source": [
    "!pip uninstall rsplib -y1"
   ]
  },
  {
   "cell_type": "code",
   "execution_count": 1,
   "metadata": {},
   "outputs": [],
   "source": [
    "from rsplib.experiments import Experiment, ExperimentExecution, Report"
   ]
  },
  {
   "cell_type": "code",
   "execution_count": 2,
   "metadata": {},
   "outputs": [],
   "source": [
    "from rsplib.experiments.workflow import execute, deploy"
   ]
  },
  {
   "cell_type": "code",
   "execution_count": 3,
   "metadata": {
    "collapsed": true
   },
   "outputs": [],
   "source": [
    "from rsplib.processing.consumer.query import *"
   ]
  },
  {
   "cell_type": "code",
   "execution_count": 4,
   "metadata": {},
   "outputs": [
    {
     "data": {
      "text/plain": [
       "<rsplib.experiments.Experiment at 0x7f598dbe2588>"
      ]
     },
     "execution_count": 4,
     "metadata": {},
     "output_type": "execute_result"
    }
   ],
   "source": [
    "# CITYBENCH CSPARQL EXPERIMENT 1\n",
    "e = Experiment()\n",
    "\n",
    "qname = \"Q1\"\n",
    "experimentName = \"/experiment1.json\"\n",
    "e.set_duration(5,\"minutes\")\n",
    "e.add_engine('http://csparql.westeurope.cloudapp.azure.com', 80, Dialects.CSPARQL)\n",
    "\n",
    "q = e.add_query(qname, \"query\", Dialects.CSPARQL)\n",
    "q.set_select_clause(\"?obId1 ?obId2 ?v1 ?v2\")\n",
    "q.set_where_clause(\"{?p1   a <http://www.insight-centre.org/citytraffic#CongestionLevel>.?p2   a <http://www.insight-centre.org/citytraffic#CongestionLevel>. {?obId1 <http://purl.oclc.org/NET/ssnx/ssn#observedProperty> ?p1.?obId1 <http://purl.oclc.org/NET/sao/hasValue> ?v1.?obId1 <http://purl.oclc.org/NET/ssnx/ssn#observedBy> <http://www.insight-centre.org/dataset/SampleEventService#AarhusTrafficData182955>.}{?obId2 <http://purl.oclc.org/NET/ssnx/ssn#observedProperty> ?p2.?obId2 <http://purl.oclc.org/NET/sao/hasValue> ?v2.?obId2 <http://purl.oclc.org/NET/ssnx/ssn#observedBy> <http://www.insight-centre.org/dataset/SampleEventService#AarhusTrafficData158505>.}}\")\n",
    "e.add_windowed_stream(qname,\"AarhusTrafficData182955\", \"http://triplewave1.westeurope.cloudapp.azure.com:4000/sgraph\", '3s','1s' )\n",
    "e.add_windowed_stream(qname,\"AarhusTrafficData158505\", \"http://triplewave1.westeurope.cloudapp.azure.com:4001/sgraph\", '3s','1s' )\n",
    "\n",
    "e.add_graph(qname, \"SensorRepository\", \"https://rsplab.blob.core.windows.net/static/SensorRepository.rdf\", serialization=\"RDF/XML\", default='true')\n",
    "#e.add_graph(qname, \"AarhusLibraryEvents\", \"https://rsplab.blob.core.windows.net/static/AarhusLibraryEvents.rdf\", serialization=\"RDF/XML\", default='true')\n",
    "\n"
   ]
  },
  {
   "cell_type": "code",
   "execution_count": 20,
   "metadata": {},
   "outputs": [
    {
     "data": {
      "text/plain": [
       "{'serialization': 'RDF/XML', 'default': 'true', 'name': 'SensorRepository', 'location': 'https://rsplab.blob.core.windows.net/static/SensorRepository.rdf'}"
      ]
     },
     "execution_count": 20,
     "metadata": {},
     "output_type": "execute_result"
    }
   ],
   "source": [
    "# CITYBENCH CSPARQL EXPERIMENT 2\n",
    "e = Experiment()\n",
    "repetition=10\n",
    "qname = \"Q2\"\n",
    "experimentName = \"/experiment2.json\"\n",
    "\n",
    "e.add_engine('http://csparql.westeurope.cloudapp.azure.com', 80, Dialects.CSPARQL)\n",
    "\n",
    "q = e.add_query(qname, \"query\", Dialects.CSPARQL)\n",
    "q.set_select_clause(\"?obId1 ?obId2 ?obId3 ?obId4 ?v1 ?v2 ?v3 ?v4\")\n",
    "q.set_where_clause(\"{?p1   a <http://www.insight-centre.org/citytraffic#Temperature>.?p2   a <http://www.insight-centre.org/citytraffic#Humidity>.?p3   a <http://www.insight-centre.org/citytraffic#WindSpeed>.?p4   a <http://www.insight-centre.org/citytraffic#CongestionLevel>.{?obId1 <http://purl.oclc.org/NET/ssnx/ssn#observedProperty> ?p1.?obId1 <http://purl.oclc.org/NET/sao/hasValue> ?v1.?obId1 <http://purl.oclc.org/NET/ssnx/ssn#observedBy> <http://www.insight-centre.org/dataset/SampleEventService#AarhusWeatherData0>.?obId2 <http://purl.oclc.org/NET/ssnx/ssn#observedProperty> ?p2.?obId2 <http://purl.oclc.org/NET/sao/hasValue> ?v2.?obId2 <http://purl.oclc.org/NET/ssnx/ssn#observedBy> <http://www.insight-centre.org/dataset/SampleEventService#AarhusWeatherData0>.?obId3 <http://purl.oclc.org/NET/ssnx/ssn#observedProperty> ?p3.?obId3 <http://purl.oclc.org/NET/sao/hasValue> ?v3.?obId3 <http://purl.oclc.org/NET/ssnx/ssn#observedBy> <http://www.insight-centre.org/dataset/SampleEventService#AarhusWeatherData0>.}{?obId4 <http://purl.oclc.org/NET/ssnx/ssn#observedProperty> ?p4.?obId4 <http://purl.oclc.org/NET/sao/hasValue> ?v4.?obId4 <http://purl.oclc.org/NET/ssnx/ssn#observedBy> <http://www.insight-centre.org/dataset/SampleEventService#AarhusTrafficData158505>.}}\")\n",
    "e.add_windowed_stream(qname,\"AarhusWeatherData0\", \"http://triplewave1.westeurope.cloudapp.azure.com:4000/sgraph\", '3s','1s' )\n",
    "e.add_windowed_stream(qname,\"AarhusTrafficData158505\", \"http://triplewave1.westeurope.cloudapp.azure.com:4000/sgraph\", '3s','1s' )\n",
    "\n",
    "e.add_graph(qname, \"SensorRepository\", \"https://rsplab.blob.core.windows.net/static/SensorRepository.rdf\", serialization=\"RDF/XML\", default='true')\n",
    "#e.add_graph(qname, \"AarhusLibraryEvents\", \"https://rsplab.blob.core.windows.net/static/AarhusLibraryEvents.rdf\", serialization=\"RDF/XML\", default='true')\n",
    "\n"
   ]
  },
  {
   "cell_type": "code",
   "execution_count": 21,
   "metadata": {},
   "outputs": [
    {
     "data": {
      "text/plain": [
       "<rsplib.experiments.Experiment at 0x7f8d40259668>"
      ]
     },
     "execution_count": 21,
     "metadata": {},
     "output_type": "execute_result"
    }
   ],
   "source": [
    "# CITYBENCH CSPARQL EXPERIMENT 3\n",
    "e = Experiment()\n",
    "repetition=10\n",
    "qname = \"Q3\"\n",
    "experimentName = \"/experiment3.json\"\n",
    "\n",
    "e.add_engine('http://csparql.westeurope.cloudapp.azure.com', 80, Dialects.CSPARQL)\n",
    "\n",
    "q = e.add_query(qname, \"query\", Dialects.CSPARQL)\n",
    "q.set_select_clause(\" ?obId1  ?obId3  ?v1  ?v3   (((?v1+?v3)/2) as ?avgCongest) \")\n",
    "q.set_where_clause(\"{{?p1   a <http://www.insight-centre.org/citytraffic#CongestionLevel>.}     UNION{?p1   a <http://www.insight-centre.org/citytraffic#EstimatedTime>.}{?p3   a <http://www.insight-centre.org/citytraffic#CongestionLevel>. }    UNION{ ?p3   a <http://www.insight-centre.org/citytraffic#EstimatedTime>.}{?obId1 a ?ob.?obId1 <http://purl.oclc.org/NET/ssnx/ssn#observedProperty> ?p1.?obId1 <http://purl.oclc.org/NET/sao/hasValue> ?v1.?obId1 <http://purl.oclc.org/NET/ssnx/ssn#observedBy> <http://www.insight-centre.org/dataset/SampleEventService#AarhusTrafficData182955>.}{?obId3 a ?ob.?obId3 <http://purl.oclc.org/NET/ssnx/ssn#observedProperty> ?p3.?obId3 <http://purl.oclc.org/NET/sao/hasValue> ?v3.?obId3 <http://purl.oclc.org/NET/ssnx/ssn#observedBy> <http://www.insight-centre.org/dataset/SampleEventService#AarhusTrafficData158505>.}}\")\n",
    "e.add_windowed_stream(qname,\"AarhusTrafficData182955\", \"http://triplewave1.westeurope.cloudapp.azure.com:4000/sgraph\", '3s','1s' )\n",
    "e.add_windowed_stream(qname,\"AarhusTrafficData158505\", \"http://triplewave1.westeurope.cloudapp.azure.com:4000/sgraph\", '3s','1s' )\n",
    "\n",
    "#e.add_graph(qname, \"SensorRepository\", \"https://rsplab.blob.core.windows.net/static/SensorRepository.rdf\", serialization=\"RDF/XML\", default='true')\n",
    "#e.add_graph(qname, \"AarhusLibraryEvents\", \"https://rsplab.blob.core.windows.net/static/AarhusLibraryEvents.rdf\", serialization=\"RDF/XML\", default='true')\n",
    "\n"
   ]
  },
  {
   "cell_type": "code",
   "execution_count": 23,
   "metadata": {},
   "outputs": [
    {
     "data": {
      "text/plain": [
       "{'serialization': 'RDF/XML', 'default': 'true', 'name': 'AarhusCulturalEvents', 'location': 'https://rsplab.blob.core.windows.net/static/AarhusCulturalEvents.rdf'}"
      ]
     },
     "execution_count": 23,
     "metadata": {},
     "output_type": "execute_result"
    }
   ],
   "source": [
    "# CITYBENCH CSPARQL EXPERIMENT 4\n",
    "e = Experiment()\n",
    "repetition=10\n",
    "qname = \"Q4\"\n",
    "experimentName = \"/experiment4.json\"\n",
    "\n",
    "e.add_engine('http://csparql.westeurope.cloudapp.azure.com', 80, Dialects.CSPARQL)\n",
    "\n",
    "q = e.add_query(qname, \"query\", Dialects.CSPARQL)\n",
    "q.set_select_clause(\"?evtId ?title ?node ?obId2 ?lat2 ?lon2 ?lat1 ?lon1\")\n",
    "q.set_where_clause(\"{?evtId a  <http://purl.oclc.org/NET/sao/Point>. ?evtId <http://purl.oclc.org/NET/ssnx/ssn#featureOfInterest> ?foi . ?foi <http://www.insight-centre.org/citytraffic#hasFirstNode> ?node . ?node <http://www.insight-centre.org/citytraffic#hasLatitude> ?lat1 .  ?node <http://www.insight-centre.org/citytraffic#hasLongitude> ?lon1 . ?evtId <http://purl.oclc.org/NET/sao/value> ?title. ?obId2 a <http://purl.oclc.org/NET/ssnx/ssn#Observation>. ?obId2 <http://purl.oclc.org/NET/ssnx/ssn#observedProperty> ?p2. ?obId2 <http://purl.oclc.org/NET/sao/hasValue> ?v2. ?v2 <http://www.insight-centre.org/citytraffic#hasLatitude> ?lat2. ?v2 <http://www.insight-centre.org/citytraffic#hasLongitude> ?lon2. ?obId2 <http://purl.oclc.org/NET/ssnx/ssn#observedBy> <http://www.insight-centre.org/dataset/SampleEventService#UserLocationService>.Filter (((?lat2 - ?lat1)*(?lat2 - ?lat1) + (?lon2 - ?lon1)*(?lon2 - ?lon1)) < 0.1)} \")\n",
    "e.add_windowed_stream(qname,\"UserLocationService\", \"http://triplewave1.westeurope.cloudapp.azure.com:4000/sgraph\", '3s','1s' )\n",
    "\n",
    "e.add_graph(qname, \"AarhusCulturalEvents\", \"https://rsplab.blob.core.windows.net/static/AarhusCulturalEvents.rdf\", serialization=\"RDF/XML\", default='true')\n",
    "#e.add_graph(qname, \"AarhusLibraryEvents\", \"https://rsplab.blob.core.windows.net/static/AarhusLibraryEvents.rdf\", serialization=\"RDF/XML\", default='true')\n",
    "\n"
   ]
  },
  {
   "cell_type": "code",
   "execution_count": 24,
   "metadata": {},
   "outputs": [
    {
     "data": {
      "text/plain": [
       "{'serialization': 'RDF/XML', 'default': 'true', 'name': 'AarhusCulturalEvents', 'location': 'https://rsplab.blob.core.windows.net/static/AarhusCulturalEvents.rdf'}"
      ]
     },
     "execution_count": 24,
     "metadata": {},
     "output_type": "execute_result"
    }
   ],
   "source": [
    "# CITYBENCH CSPARQL EXPERIMENT 5\n",
    "e = Experiment()\n",
    "repetition=10\n",
    "qname = \"Q5\"\n",
    "experimentName = \"/experiment5.json\"\n",
    "\n",
    "e.add_engine('http://csparql.westeurope.cloudapp.azure.com', 80, Dialects.CSPARQL)\n",
    "\n",
    "q = e.add_query(qname, \"query\", Dialects.CSPARQL)\n",
    "q.set_select_clause(\"?evtId ?title #?lat1 ?lon1 ?obId2  ?lat2 ?lon2\")\n",
    "q.set_where_clause(\"{?p2   a <http://www.insight-centre.org/citytraffic#CongestionLevel>. ?p2   <http://purl.oclc.org/NET/ssnx/ssn#isPropertyOf> ?foi2.?foi2 <http://www.insight-centre.org/citytraffic#hasStartLatitude> ?lat2. ?foi2 <http://www.insight-centre.org/citytraffic#hasStartLongitude> ?lon2.   { ?evtId a ?ob.?evtId <http://purl.oclc.org/NET/ssnx/ssn#featureOfInterest> ?foi. ?foi <http://www.insight-centre.org/citytraffic#hasFirstNode> ?node. ?node <http://www.insight-centre.org/citytraffic#hasLatitude> ?lat1.  ?node <http://www.insight-centre.org/citytraffic#hasLongitude> ?lon1. ?evtId <http://purl.oclc.org/NET/sao/value> ?title.} {?obId2 a ?ob.?obId2 <http://purl.oclc.org/NET/ssnx/ssn#observedProperty> ?p2.?obId2 <http://purl.oclc.org/NET/sao/hasValue> ?v2.?obId2 <http://purl.oclc.org/NET/ssnx/ssn#observedBy> <http://www.insight-centre.org/dataset/SampleEventService#AarhusTrafficData158505>.}Filter (((?lat2-?lat1)*(?lat2-?lat1)+(?lon2-?lon1)*(?lon2-?lon1)) < 0.1)}\")\n",
    "e.add_windowed_stream(qname,\"AarhusTrafficData158505\", \"http://triplewave1.westeurope.cloudapp.azure.com:4000/sgraph\", '3s','1s' )\n",
    "#e.add_windowed_stream(qname,\"AarhusTrafficData158505\", \"http://triplewave1.westeurope.cloudapp.azure.com:4000/sgraph\", '3s','1s' )\n",
    "\n",
    "e.add_graph(qname, \"SensorRepository\", \"https://rsplab.blob.core.windows.net/static/SensorRepository.rdf\", serialization=\"RDF/XML\", default='true')\n",
    "e.add_graph(qname, \"AarhusCulturalEvents\", \"https://rsplab.blob.core.windows.net/static/AarhusCulturalEvents.rdf\", serialization=\"RDF/XML\", default='true')\n",
    "\n"
   ]
  },
  {
   "cell_type": "code",
   "execution_count": 25,
   "metadata": {},
   "outputs": [
    {
     "data": {
      "text/plain": [
       "{'serialization': 'RDF/XML', 'default': 'true', 'name': 'SensorRepository', 'location': 'https://rsplab.blob.core.windows.net/static/SensorRepository.rdf'}"
      ]
     },
     "execution_count": 25,
     "metadata": {},
     "output_type": "execute_result"
    }
   ],
   "source": [
    "# CITYBENCH CSPARQL EXPERIMENT 6\n",
    "e = Experiment()\n",
    "repetition=10\n",
    "qname = \"Q6\"\n",
    "experimentName = \"/experiment6.json\"\n",
    "\n",
    "e.add_engine('http://csparql.westeurope.cloudapp.azure.com', 80, Dialects.CSPARQL)\n",
    "\n",
    "q = e.add_query(qname, \"query\", Dialects.CSPARQL)\n",
    "q.set_select_clause(\"?obId1 ?obId2 ?lat1 ?lon1 ?lat2 ?lon2\")\n",
    "q.set_where_clause(\"{?p1   a <http://www.insight-centre.org/citytraffic#ParkingVacancy>.?p1 <http://purl.oclc.org/NET/ssnx/ssn#isPropertyOf> ?foi1.?foi1 <http://www.insight-centre.org/citytraffic#hasStartLatitude> ?lat1.?foi1 <http://www.insight-centre.org/citytraffic#hasStartLongitude> ?lon1.{?obId1 a ?ob.?obId1 <http://purl.oclc.org/NET/ssnx/ssn#observedProperty> ?p1.?obId1 <http://purl.oclc.org/NET/sao/hasValue> ?v1.?obId1 <http://purl.oclc.org/NET/ssnx/ssn#observedBy> <http://www.insight-centre.org/dataset/SampleEventService#AarhusParkingDataKALKVAERKSVEJ>.}{?obId2 a ?ob.?obId2 <http://purl.oclc.org/NET/sao/hasValue> ?v2.?v2 <http://www.insight-centre.org/citytraffic#hasLatitude> ?lat2.?v2 <http://www.insight-centre.org/citytraffic#hasLongitude> ?lon2.?obId2 <http://purl.oclc.org/NET/ssnx/ssn#observedBy> <http://www.insight-centre.org/dataset/SampleEventService#UserLocationService>.}}\")\n",
    "e.add_windowed_stream(qname,\"AarhusParkingDataKALKVAERKSVEJ\", \"http://triplewave1.westeurope.cloudapp.azure.com:4000/sgraph\", '3s','1s' )\n",
    "e.add_windowed_stream(qname,\"UserLocationService\", \"http://triplewave1.westeurope.cloudapp.azure.com:4000/sgraph\", '3s','1s' )\n",
    "\n",
    "e.add_graph(qname, \"SensorRepository\", \"https://rsplab.blob.core.windows.net/static/SensorRepository.rdf\", serialization=\"RDF/XML\", default='true')\n",
    "#e.add_graph(qname, \"AarhusLibraryEvents\", \"https://rsplab.blob.core.windows.net/static/AarhusLibraryEvents.rdf\", serialization=\"RDF/XML\", default='true')\n",
    "\n"
   ]
  },
  {
   "cell_type": "code",
   "execution_count": 26,
   "metadata": {},
   "outputs": [
    {
     "data": {
      "text/plain": [
       "{'serialization': 'RDF/XML', 'default': 'true', 'name': 'SensorRepository', 'location': 'https://rsplab.blob.core.windows.net/static/SensorRepository.rdf'}"
      ]
     },
     "execution_count": 26,
     "metadata": {},
     "output_type": "execute_result"
    }
   ],
   "source": [
    "# CITYBENCH CSPARQL EXPERIMENT 7\n",
    "e = Experiment()\n",
    "repetition=10\n",
    "qname = \"Q7\"\n",
    "experimentName = \"/experiment7.json\"\n",
    "\n",
    "e.add_engine('http://csparql.westeurope.cloudapp.azure.com', 80, Dialects.CSPARQL)\n",
    "\n",
    "q = e.add_query(qname, \"query\", Dialects.CSPARQL)\n",
    "q.set_select_clause(\"?obId1 ?obId2 ?v1 ?v2\")\n",
    "q.set_where_clause(\"{?p1   a <http://www.insight-centre.org/citytraffic#ParkingVacancy>.?p2   a <http://www.insight-centre.org/citytraffic#ParkingVacancy>.{?obId1 a ?ob.?obId1 <http://purl.oclc.org/NET/ssnx/ssn#observedProperty> ?p1.?obId1 <http://purl.oclc.org/NET/sao/hasValue> ?v1.?obId1 <http://purl.oclc.org/NET/ssnx/ssn#observedBy> <http://www.insight-centre.org/dataset/SampleEventService#AarhusParkingDataKALKVAERKSVEJ>.}{?obId2 a ?ob.?obId2 <http://purl.oclc.org/NET/ssnx/ssn#observedProperty> ?p2.?obId2 <http://purl.oclc.org/NET/sao/hasValue> ?v2.?obId2 <http://purl.oclc.org/NET/ssnx/ssn#observedBy> <http://www.insight-centre.org/dataset/SampleEventService#AarhusParkingDataSKOLEBAKKEN>.}Filter(?v1 < 1 || ?v2 < 1 )}\")\n",
    "e.add_windowed_stream(qname,\"AarhusParkingDataKALKVAERKSVEJ\", \"http://triplewave1.westeurope.cloudapp.azure.com:4000/sgraph\", '3s','1s' )\n",
    "e.add_windowed_stream(qname,\"AarhusParkingDataSKOLEBAKKEN\", \"http://triplewave1.westeurope.cloudapp.azure.com:4000/sgraph\", '3s','1s' )\n",
    "\n",
    "e.add_graph(qname, \"SensorRepository\", \"https://rsplab.blob.core.windows.net/static/SensorRepository.rdf\", serialization=\"RDF/XML\", default='true')\n",
    "#e.add_graph(qname, \"AarhusLibraryEvents\", \"https://rsplab.blob.core.windows.net/static/AarhusLibraryEvents.rdf\", serialization=\"RDF/XML\", default='true')\n",
    "\n"
   ]
  },
  {
   "cell_type": "code",
   "execution_count": 31,
   "metadata": {},
   "outputs": [
    {
     "data": {
      "text/plain": [
       "{'default': 'true', 'name': 'AarhusLibraryEvents', 'location': 'https://rsplab.blob.core.windows.net/static/AarhusLibraryEvents.rdf', 'serialization': 'RDF/XML'}"
      ]
     },
     "execution_count": 31,
     "metadata": {},
     "output_type": "execute_result"
    }
   ],
   "source": [
    "# CITYBENCH CSPARQL EXPERIMENT 8\n",
    "e = rsp.Experiment()\n",
    "repetition=10\n",
    "qname = \"Q8\"\n",
    "experimentName = \"/experiment8.json\"\n",
    "\n",
    "e.add_engine('http://csparql.westeurope.cloudapp.azure.com', 80, rsp.Dialects.CSPARQL)\n",
    "\n",
    "q = e.add_query(qname, \"query\", rsp.Dialects.CSPARQL)\n",
    "q.set_select_clause(\"?obId1 ?obId2 ?v1 ?v2 \")\n",
    "q.set_where_clause(\"{?p1   a <http://www.insight-centre.org/citytraffic#ParkingVacancy>.?p2   a <http://www.insight-centre.org/citytraffic#ParkingVacancy>.{?evtId <http://purl.oclc.org/NET/ssnx/ssn#featureOfInterest> ?foi. ?foi <http://www.insight-centre.org/citytraffic#hasFirstNode> ?node. ?node <http://www.insight-centre.org/citytraffic#hasLatitude> ?lat1.  ?node <http://www.insight-centre.org/citytraffic#hasLongitude> ?lon1. ?evtId <http://purl.oclc.org/NET/sao/value> ?title.}{?obId1 <http://purl.oclc.org/NET/ssnx/ssn#observedProperty> ?p1.?obId1 <http://purl.oclc.org/NET/sao/hasValue> ?v1.?obId1 <http://purl.oclc.org/NET/ssnx/ssn#observedBy> <http://www.insight-centre.org/dataset/SampleEventService#AarhusParkingDataKALKVAERKSVEJ>.}{?obId2 <http://purl.oclc.org/NET/ssnx/ssn#observedProperty> ?p2.?obId2 <http://purl.oclc.org/NET/sao/hasValue> ?v2.?obId2 <http://purl.oclc.org/NET/ssnx/ssn#observedBy> <http://www.insight-centre.org/dataset/SampleEventService#AarhusParkingDataSKOLEBAKKEN>.}Filter(?v1 > 0 || ?v2 > 0)}\")\n",
    "e.add_windowed_stream(qname,\"AarhusParkingDataKALKVAERKSVEJ\", \"http://triplewave1.westeurope.cloudapp.azure.com:4000/sgraph\", '3s','1s' )\n",
    "e.add_windowed_stream(qname,\"AarhusParkingDataSKOLEBAKKEN\", \"http://triplewave1.westeurope.cloudapp.azure.com:4000/sgraph\", '3s','1s' )\n",
    "\n",
    "e.add_graph(qname, \"SensorRepository\", \"https://rsplab.blob.core.windows.net/static/SensorRepository.rdf\", serialization=\"RDF/XML\", default='true')\n",
    "e.add_graph(qname, \"AarhusLibraryEvents\", \"https://rsplab.blob.core.windows.net/static/AarhusLibraryEvents.rdf\", serialization=\"RDF/XML\", default='true')\n",
    "\n"
   ]
  },
  {
   "cell_type": "code",
   "execution_count": 27,
   "metadata": {},
   "outputs": [
    {
     "data": {
      "text/plain": [
       "{'serialization': 'RDF/XML', 'default': 'true', 'name': 'AarhusCulturalEvents', 'location': 'https://rsplab.blob.core.windows.net/static/AarhusCulturalEvents.rdf'}"
      ]
     },
     "execution_count": 27,
     "metadata": {},
     "output_type": "execute_result"
    }
   ],
   "source": [
    "# CITYBENCH CSPARQL EXPERIMENT 9\n",
    "e = Experiment()\n",
    "repetition=10\n",
    "qname = \"Q9\"\n",
    "experimentName = \"/experiment9.json\"\n",
    "\n",
    "e.add_engine('http://csparql.westeurope.cloudapp.azure.com', 80, Dialects.CSPARQL)\n",
    "\n",
    "q = e.add_query(qname, \"query\", Dialects.CSPARQL)\n",
    "q.set_select_clause(\"?obId1 ?obId2 ?v1 ?v2\")\n",
    "q.set_where_clause(\"{?p1   a <http://www.insight-centre.org/citytraffic#ParkingVacancy>.?p2   a <http://www.insight-centre.org/citytraffic#ParkingVacancy>.{?evtId a ?ob.?evtId <http://purl.oclc.org/NET/ssnx/ssn#featureOfInterest> ?foi. ?foi <http://www.insight-centre.org/citytraffic#hasFirstNode> ?node. ?node <http://www.insight-centre.org/citytraffic#hasLatitude> ?lat1.  ?node <http://www.insight-centre.org/citytraffic#hasLongitude> ?lon1. ?evtId <http://purl.oclc.org/NET/sao/value> ?title.}{?obId1 a ?ob.?obId1 <http://purl.oclc.org/NET/ssnx/ssn#observedProperty> ?p1.?obId1 <http://purl.oclc.org/NET/sao/hasValue> ?v1.?obId1 <http://purl.oclc.org/NET/ssnx/ssn#observedBy> <http://www.insight-centre.org/dataset/SampleEventService#AarhusParkingDataKALKVAERKSVEJ>.} {?obId2 a ?ob.?obId2 <http://purl.oclc.org/NET/ssnx/ssn#observedProperty> ?p2.?obId2 <http://purl.oclc.org/NET/sao/hasValue> ?v2.?obId2 <http://purl.oclc.org/NET/ssnx/ssn#observedBy> <http://www.insight-centre.org/dataset/SampleEventService#AarhusParkingDataSKOLEBAKKEN>.}}\")\n",
    "e.add_windowed_stream(qname,\"AarhusParkingDataKALKVAERKSVEJ\", \"http://triplewave1.westeurope.cloudapp.azure.com:4000/sgraph\", '3s','1s' )\n",
    "e.add_windowed_stream(qname,\"AarhusParkingDataSKOLEBAKKEN\", \"http://triplewave1.westeurope.cloudapp.azure.com:4000/sgraph\", '3s','1s' )\n",
    "\n",
    "e.add_graph(qname, \"SensorRepository\", \"https://rsplab.blob.core.windows.net/static/SensorRepository.rdf\", serialization=\"RDF/XML\", default='true')\n",
    "e.add_graph(qname, \"AarhusCulturalEvents\", \"https://rsplab.blob.core.windows.net/static/AarhusCulturalEvents.rdf\", serialization=\"RDF/XML\", default='true')\n",
    "\n"
   ]
  },
  {
   "cell_type": "code",
   "execution_count": 43,
   "metadata": {},
   "outputs": [
    {
     "data": {
      "text/plain": [
       "{'default': 'true', 'name': 'SensorRepository', 'location': 'https://rsplab.blob.core.windows.net/static/SensorRepository.rdf', 'serialization': 'RDF/XML'}"
      ]
     },
     "execution_count": 43,
     "metadata": {},
     "output_type": "execute_result"
    }
   ],
   "source": [
    "# CITYBENCH CSPARQL EXPERIMENT 10\n",
    "e = Experiment()\n",
    "repetition=10\n",
    "qname = \"Q10\"\n",
    "experimentName = \"/experiment10.json\"\n",
    "\n",
    "e.add_engine('http://csparql.westeurope.cloudapp.azure.com', 80, Dialects.CSPARQL)\n",
    "\n",
    "q = e.add_query(qname, \"query\", Dialects.CSPARQL)\n",
    "q.set_select_clause(\"?obId1 ?obId2 ?lat1 ?lon1 ?lat2 ?lon2 ?v1 ?v2 ((?v1+?v2) as ?sumOfAPI)\")\n",
    "q.set_where_clause(\"{{?obId1 a ?ob.?obId1 <http://purl.oclc.org/NET/ssnx/ssn#observedProperty> ?p1.?obId1 <http://purl.oclc.org/NET/sao/hasValue> ?v1.?obId1 <http://purl.oclc.org/NET/ssnx/ssn#observedBy> <http://www.insight-centre.org/dataset/SampleEventService#AarhusPollutionData201399>.}{?obId2 a ?ob.?obId2 <http://purl.oclc.org/NET/ssnx/ssn#observedProperty> ?p2.?obId2 <http://purl.oclc.org/NET/sao/hasValue> ?v2.?obId2 <http://purl.oclc.org/NET/ssnx/ssn#observedBy> <http://www.insight-centre.org/dataset/SampleEventService#AarhusPollutionData184892>.}}\")\n",
    "e.add_windowed_stream(qname,\"AarhusPollutionData201399\", \"http://triplewave1.westeurope.cloudapp.azure.com:4000/sgraph\", '3s','1s' )\n",
    "e.add_windowed_stream(qname,\"AarhusPollutionData184892\", \"http://triplewave1.westeurope.cloudapp.azure.com:4000/sgraph\", '3s','1s' )\n",
    "\n",
    "e.add_graph(qname, \"SensorRepository\", \"https://rsplab.blob.core.windows.net/static/SensorRepository.rdf\", serialization=\"RDF/XML\", default='true')\n",
    "#e.add_graph(qname, \"AarhusLibraryEvents\", \"https://rsplab.blob.core.windows.net/static/AarhusLibraryEvents.rdf\", serialization=\"RDF/XML\", default='true')\n",
    "\n"
   ]
  },
  {
   "cell_type": "code",
   "execution_count": 47,
   "metadata": {},
   "outputs": [
    {
     "data": {
      "text/plain": [
       "<rsplib.Experiment at 0x7f5abc077400>"
      ]
     },
     "execution_count": 47,
     "metadata": {},
     "output_type": "execute_result"
    }
   ],
   "source": [
    "# CITYBENCH CSPARQL EXPERIMENT 10_5\n",
    "e = Experiment()\n",
    "repetition=10\n",
    "qname = \"Q10s5\"\n",
    "experimentName = \"/experiment10s5.json\"\n",
    "\n",
    "e.add_engine('http://csparql.westeurope.cloudapp.azure.com', 80, Dialects.CSPARQL)\n",
    "\n",
    "q = e.add_query(qname, \"query\", Dialects.CSPARQL)\n",
    "q.set_select_clause(\"?obId1 ?obId2 ?obId3 ?obId4 ?obId5 \")\n",
    "q.set_where_clause(\"{?p1   a <http://www.insight-centre.org/citytraffic#CongestionLevel>.?p2   a <http://www.insight-centre.org/citytraffic#CongestionLevel>.?p3   a <http://www.insight-centre.org/citytraffic#CongestionLevel>.?p4   a <http://www.insight-centre.org/citytraffic#CongestionLevel>.?p5   a <http://www.insight-centre.org/citytraffic#CongestionLevel>.{?obId1 <http://purl.oclc.org/NET/ssnx/ssn#observedProperty> ?p1.?obId1 <http://purl.oclc.org/NET/sao/hasValue> ?v1.?obId1 <http://purl.oclc.org/NET/ssnx/ssn#observedBy> <http://www.insight-centre.org/dataset/SampleEventService#AarhusPollutionData182955>.}{?obId2 <http://purl.oclc.org/NET/ssnx/ssn#observedProperty> ?p2.?obId2 <http://purl.oclc.org/NET/sao/hasValue> ?v2.?obId2 <http://purl.oclc.org/NET/ssnx/ssn#observedBy> <http://www.insight-centre.org/dataset/SampleEventService#AarhusPollutionData158505>.}{?obId3 <http://purl.oclc.org/NET/ssnx/ssn#observedProperty> ?p3.?obId3 <http://purl.oclc.org/NET/sao/hasValue> ?v3.?obId3 <http://purl.oclc.org/NET/ssnx/ssn#observedBy> <http://www.insight-centre.org/dataset/SampleEventService#AarhusPollutionData206502>.}{?obId4 <http://purl.oclc.org/NET/ssnx/ssn#observedProperty> ?p4.?obId4 <http://purl.oclc.org/NET/sao/hasValue> ?v4.?obId4 <http://purl.oclc.org/NET/ssnx/ssn#observedBy> <http://www.insight-centre.org/dataset/SampleEventService#AarhusPollutionData179093>.}{?obId5 <http://purl.oclc.org/NET/ssnx/ssn#observedProperty> ?p5.?obId5 <http://purl.oclc.org/NET/sao/hasValue> ?v5.?obId5 <http://purl.oclc.org/NET/ssnx/ssn#observedBy> <http://www.insight-centre.org/dataset/SampleEventService#AarhusPollutionData195843>.}}\")\n",
    "e.add_windowed_stream(qname,\"AarhusPollutionData182955\", \"http://triplewave1.westeurope.cloudapp.azure.com:4000/sgraph\", '3s','1s' )\n",
    "e.add_windowed_stream(qname,\"AarhusPollutionData158505\", \"http://triplewave1.westeurope.cloudapp.azure.com:4000/sgraph\", '3s','1s' )\n",
    "e.add_windowed_stream(qname,\"AarhusPollutionData206502\", \"http://triplewave1.westeurope.cloudapp.azure.com:4000/sgraph\", '3s','1s' )\n",
    "e.add_windowed_stream(qname,\"AarhusPollutionData179093\", \"http://triplewave1.westeurope.cloudapp.azure.com:4000/sgraph\", '3s','1s' )\n",
    "e.add_windowed_stream(qname,\"AarhusPollutionData195843\", \"http://triplewave1.westeurope.cloudapp.azure.com:4000/sgraph\", '3s','1s' )\n",
    "\n",
    "\n",
    "#e.add_graph(qname, \"SensorRepository\", \"https://rsplab.blob.core.windows.net/static/SensorRepository.rdf\", serialization=\"RDF/XML\", default='true')\n",
    "#e.add_graph(qname, \"AarhusLibraryEvents\", \"https://rsplab.blob.core.windows.net/static/AarhusLibraryEvents.rdf\", serialization=\"RDF/XML\", default='true')\n",
    "\n"
   ]
  },
  {
   "cell_type": "code",
   "execution_count": 51,
   "metadata": {},
   "outputs": [
    {
     "data": {
      "text/plain": [
       "{'default': 'true', 'name': 'SensorRepository', 'location': 'https://rsplab.blob.core.windows.net/static/SensorRepository.rdf', 'serialization': 'RDF/XML'}"
      ]
     },
     "execution_count": 51,
     "metadata": {},
     "output_type": "execute_result"
    }
   ],
   "source": [
    "# CITYBENCH CSPARQL EXPERIMENT 10s8\n",
    "e = Experiment()\n",
    "repetition=10\n",
    "qname = \"Q10s8\"\n",
    "experimentName = \"/experiment10s8.json\"\n",
    "\n",
    "e.add_engine('http://csparql.westeurope.cloudapp.azure.com', 80, Dialects.CSPARQL)\n",
    "\n",
    "q = e.add_query(qname, \"query\", Dialects.CSPARQL)\n",
    "q.set_select_clause(\"?obId1 ?obId2 ?obId3 ?obId4 ?obId5 ?obId6 ?obId7 ?obId8 \")\n",
    "q.set_where_clause(\"{{?obId1 <http://purl.oclc.org/NET/ssnx/ssn#observedProperty> ?p1.?obId1 <http://purl.oclc.org/NET/sao/hasValue> ?v1.?obId1 <http://purl.oclc.org/NET/ssnx/ssn#observedBy> <http://www.insight-centre.org/dataset/SampleEventService#AarhusPollutionData182955>.}{?obId2 <http://purl.oclc.org/NET/ssnx/ssn#observedProperty> ?p2.?obId2 <http://purl.oclc.org/NET/sao/hasValue> ?v2.?obId2 <http://purl.oclc.org/NET/ssnx/ssn#observedBy> <http://www.insight-centre.org/dataset/SampleEventService#AarhusPollutionData158505>.}{?obId3 <http://purl.oclc.org/NET/ssnx/ssn#observedProperty> ?p3.?obId3 <http://purl.oclc.org/NET/sao/hasValue> ?v3.?obId3 <http://purl.oclc.org/NET/ssnx/ssn#observedBy> <http://www.insight-centre.org/dataset/SampleEventService#AarhusPollutionData206502>.}{?obId4 <http://purl.oclc.org/NET/ssnx/ssn#observedProperty> ?p4.?obId4 <http://purl.oclc.org/NET/sao/hasValue> ?v4.?obId4 <http://purl.oclc.org/NET/ssnx/ssn#observedBy> <http://www.insight-centre.org/dataset/SampleEventService#AarhusPollutionData179093>.}{?obId5 <http://purl.oclc.org/NET/ssnx/ssn#observedProperty> ?p5.?obId5 <http://purl.oclc.org/NET/sao/hasValue> ?v5.?obId5 <http://purl.oclc.org/NET/ssnx/ssn#observedBy> <http://www.insight-centre.org/dataset/SampleEventService#AarhusPollutionData195843>.}{?obId6 <http://purl.oclc.org/NET/ssnx/ssn#observedProperty> ?p6.?obId6 <http://purl.oclc.org/NET/sao/hasValue> ?v6.?obId6 <http://purl.oclc.org/NET/ssnx/ssn#observedBy> <http://www.insight-centre.org/dataset/SampleEventService#AarhusPollutionData206237>.}{?obId7 <http://purl.oclc.org/NET/ssnx/ssn#observedProperty> ?p7.?obId7 <http://purl.oclc.org/NET/sao/hasValue> ?v7.?obId7 <http://purl.oclc.org/NET/ssnx/ssn#observedBy> <http://www.insight-centre.org/dataset/SampleEventService#AarhusPollutionData195204>.}{?obId8 <http://purl.oclc.org/NET/ssnx/ssn#observedProperty> ?p8.?obId8 <http://purl.oclc.org/NET/sao/hasValue> ?v8.?obId8 <http://purl.oclc.org/NET/ssnx/ssn#observedBy> <http://www.insight-centre.org/dataset/SampleEventService#AarhusPollutionData204300>.}}\")\n",
    "e.add_windowed_stream(qname,\"AarhusPollutionData182955\", \"http://triplewave1.westeurope.cloudapp.azure.com:4000/sgraph\", '3s','1s' )\n",
    "e.add_windowed_stream(qname,\"AarhusPollutionData158505\", \"http://triplewave1.westeurope.cloudapp.azure.com:4000/sgraph\", '3s','1s' )\n",
    "e.add_windowed_stream(qname,\"AarhusPollutionData206502\", \"http://triplewave1.westeurope.cloudapp.azure.com:4000/sgraph\", '3s','1s' )\n",
    "e.add_windowed_stream(qname,\"AarhusPollutionData179093\", \"http://triplewave1.westeurope.cloudapp.azure.com:4000/sgraph\", '3s','1s' )\n",
    "e.add_windowed_stream(qname,\"AarhusPollutionData195843\", \"http://triplewave1.westeurope.cloudapp.azure.com:4000/sgraph\", '3s','1s' )\n",
    "e.add_windowed_stream(qname,\"AarhusPollutionData206237\", \"http://triplewave1.westeurope.cloudapp.azure.com:4000/sgraph\", '3s','1s' )\n",
    "e.add_windowed_stream(qname,\"AarhusPollutionData195204\", \"http://triplewave1.westeurope.cloudapp.azure.com:4000/sgraph\", '3s','1s' )\n",
    "e.add_windowed_stream(qname,\"AarhusPollutionData204300\", \"http://triplewave1.westeurope.cloudapp.azure.com:4000/sgraph\", '3s','1s' )\n",
    "\n",
    "e.add_graph(qname, \"SensorRepository\", \"https://rsplab.blob.core.windows.net/static/SensorRepository.rdf\", serialization=\"RDF/XML\", default='true')\n",
    "#e.add_graph(qname, \"AarhusLibraryEvents\", \"https://rsplab.blob.core.windows.net/static/AarhusLibraryEvents.rdf\", serialization=\"RDF/XML\", default='true')\n",
    "\n"
   ]
  },
  {
   "cell_type": "code",
   "execution_count": 55,
   "metadata": {},
   "outputs": [
    {
     "data": {
      "text/plain": [
       "<rsplib.Experiment at 0x7f5abc0730f0>"
      ]
     },
     "execution_count": 55,
     "metadata": {},
     "output_type": "execute_result"
    }
   ],
   "source": [
    "# CITYBENCH CSPARQL EXPERIMENT 11\n",
    "e = Experiment()\n",
    "repetition=10\n",
    "qname = \"Q11\"\n",
    "experimentName = \"/experiment11.json\"\n",
    "\n",
    "e.add_engine('http://csparql.westeurope.cloudapp.azure.com', 80, Dialects.CSPARQL)\n",
    "\n",
    "q = e.add_query(qname, \"ASK\", Dialects.CSPARQL)\n",
    "q.set_select_clause(\"*\")\n",
    "q.set_where_clause(\"{?obId1 a ?ob.?obId1 <http://purl.oclc.org/NET/ssnx/ssn#observedProperty> ?p1.?obId1 <http://purl.oclc.org/NET/sao/hasValue> ?v1.?obId1 <http://purl.oclc.org/NET/ssnx/ssn#observedBy> <http://www.insight-centre.org/dataset/SampleEventService#AarhusWeatherData0>.}Filter (!bound(?obId1))}\")\n",
    "e.add_windowed_stream(qname,\"AarhusWeatherData0\", \"http://triplewave1.westeurope.cloudapp.azure.com:4000/sgraph\", '3s','1s' )\n",
    "\n",
    "#e.add_graph(qname, \"SensorRepository\", \"https://rsplab.blob.core.windows.net/static/SensorRepository.rdf\", serialization=\"RDF/XML\", default='true')\n",
    "#e.add_graph(qname, \"AarhusLibraryEvents\", \"https://rsplab.blob.core.windows.net/static/AarhusLibraryEvents.rdf\", serialization=\"RDF/XML\", default='true')\n",
    "\n"
   ]
  },
  {
   "cell_type": "code",
   "execution_count": 7,
   "metadata": {},
   "outputs": [
    {
     "data": {
      "text/plain": [
       "<rsplib.experiments.Experiment at 0x7f4e0971cf28>"
      ]
     },
     "execution_count": 7,
     "metadata": {},
     "output_type": "execute_result"
    }
   ],
   "source": [
    "# CITYBENCH CSPARQL EXPERIMENT 12\n",
    "e = Experiment()\n",
    "repetition=10\n",
    "qname = \"Q12\"\n",
    "experimentName = \"/experiment12.json\"\n",
    "e.set_duration(5,\"minutes\")\n",
    "e.add_engine('http://csparql.westeurope.cloudapp.azure.com', 80, Dialects.CSPARQL)\n",
    "\n",
    "q = e.add_query(qname, \"query\", Dialects.CSPARQL)\n",
    "q.set_select_clause(\" (count(?obId1) as ?obCnt)  \")\n",
    "q.set_where_clause(\" {?p1   a <http://www.insight-centre.org/citytraffic#CongestionLevel>.{?obId1 a ?ob.?obId1 <http://purl.oclc.org/NET/ssnx/ssn#observedProperty> ?p1.?obId1 <http://purl.oclc.org/NET/sao/hasValue> ?v1.?obId1 <http://purl.oclc.org/NET/ssnx/ssn#observedBy> ?service1.}Filter(?v1 >= -1)}\")\n",
    "q.set_group_by(\"?service1\")\n",
    "q.set_having(\"(count(?obId1) > 3)\")\n",
    "e.add_windowed_stream(qname,\"AarhusTrafficData186979\", \"http://triplewave1.westeurope.cloudapp.azure.com:4000/sgraph\", '3s','1s' )\n",
    "\n",
    "e.add_graph(qname, \"SensorRepository\", \"https://rsplab.blob.core.windows.net/static/SensorRepository.rdf\", serialization=\"RDF/XML\", default='true')\n",
    "#e.add_graph(qname, \"AarhusLibraryEvents\", \"https://rsplab.blob.core.windows.net/static/AarhusLibraryEvents.rdf\", serialization=\"RDF/XML\", default='true')\n",
    "\n"
   ]
  },
  {
   "cell_type": "code",
   "execution_count": 8,
   "metadata": {},
   "outputs": [
    {
     "data": {
      "text/plain": [
       "{'body': 'SELECT  (count(?obId1) as ?obCnt)   FROM STREAM <AarhusTrafficData186979> [RANGE 3s STEP 1s]\\nWHERE { {?p1   a <http://www.insight-centre.org/citytraffic#CongestionLevel>.{?obId1 a ?ob.?obId1 <http://purl.oclc.org/NET/ssnx/ssn#observedProperty> ?p1.?obId1 <http://purl.oclc.org/NET/sao/hasValue> ?v1.?obId1 <http://purl.oclc.org/NET/ssnx/ssn#observedBy> ?service1.}Filter(?v1 >= -1)}\\n}',\n",
       " 'dialect': 'CSPARQL',\n",
       " 'name': 'Q12',\n",
       " 'structure': {'graphs': [{'serialization': 'RDF/XML', 'default': 'true', 'location': 'https://rsplab.blob.core.windows.net/static/SensorRepository.rdf', 'name': 'SensorRepository'}],\n",
       "  'group_by': '?service1',\n",
       "  'having': '(count(?obId1) > 3)',\n",
       "  'order_by': '',\n",
       "  'select_clause': ' (count(?obId1) as ?obCnt)  ',\n",
       "  'streams': [{'scale_factor': 1, 'window': {'step': '1s', 'range': '3s'}, 'location': 'http://triplewave1.westeurope.cloudapp.azure.com:4000/sgraph', 'name': 'AarhusTrafficData186979'}],\n",
       "  'where_clause': {'default': [' {?p1   a <http://www.insight-centre.org/citytraffic#CongestionLevel>.{?obId1 a ?ob.?obId1 <http://purl.oclc.org/NET/ssnx/ssn#observedProperty> ?p1.?obId1 <http://purl.oclc.org/NET/sao/hasValue> ?v1.?obId1 <http://purl.oclc.org/NET/ssnx/ssn#observedBy> ?service1.}Filter(?v1 >= -1)}'], 'unnamed': [], 'named': []}},\n",
       " 'type': 'query'}"
      ]
     },
     "execution_count": 8,
     "metadata": {},
     "output_type": "execute_result"
    }
   ],
   "source": [
    "q.__dict__()"
   ]
  },
  {
   "cell_type": "markdown",
   "metadata": {},
   "source": []
  },
  {
   "cell_type": "code",
   "execution_count": 9,
   "metadata": {
    "collapsed": true
   },
   "outputs": [],
   "source": [
    "import json\n",
    "\n",
    "base_dir = \"./experiments/citybench_experiment_csparql\"\n",
    "def jdefault(o):\n",
    "        return o.__dict__()\n",
    "    \n",
    "with open(base_dir+experimentName, \"w\") as myfile:\n",
    "    myfile.write(json.dumps(e, default=jdefault, indent=4, sort_keys=True))"
   ]
  },
  {
   "cell_type": "code",
   "execution_count": 11,
   "metadata": {},
   "outputs": [
    {
     "ename": "NameError",
     "evalue": "name 'deploy' is not defined",
     "output_type": "error",
     "traceback": [
      "\u001b[0;31m---------------------------------------------------------------------------\u001b[0m",
      "\u001b[0;31mNameError\u001b[0m                                 Traceback (most recent call last)",
      "\u001b[0;32m<ipython-input-11-f18707373ea3>\u001b[0m in \u001b[0;36m<module>\u001b[0;34m()\u001b[0m\n\u001b[0;32m----> 1\u001b[0;31m \u001b[0mex\u001b[0m \u001b[0;34m=\u001b[0m \u001b[0mdeploy\u001b[0m\u001b[0;34m(\u001b[0m\u001b[0me\u001b[0m\u001b[0;34m)\u001b[0m\u001b[0;34m\u001b[0m\u001b[0m\n\u001b[0m",
      "\u001b[0;31mNameError\u001b[0m: name 'deploy' is not defined"
     ]
    }
   ],
   "source": [
    "ex = deploy(e)"
   ]
  },
  {
   "cell_type": "code",
   "execution_count": 5,
   "metadata": {},
   "outputs": [
    {
     "data": {
      "text/plain": [
       "<rsplib.experiments.Experiment at 0x7f598dbe2588>"
      ]
     },
     "execution_count": 5,
     "metadata": {},
     "output_type": "execute_result"
    }
   ],
   "source": [
    "e"
   ]
  },
  {
   "cell_type": "code",
   "execution_count": 11,
   "metadata": {},
   "outputs": [
    {
     "data": {
      "text/plain": [
       "{'Execution': {'D': ['Dataset SensorRepository succesfully registered with IRI https://rsplab.blob.core.windows.net/static/SensorRepository.rdf'],\n",
       "  'E': {'backloop': True,\n",
       "   'empty_results': False,\n",
       "   'host': 'csparql/',\n",
       "   'inference': False,\n",
       "   'name': 'csparql',\n",
       "   'num_datasets': 1,\n",
       "   'num_queries': 1,\n",
       "   'num_streams': 1,\n",
       "   'port': 8182,\n",
       "   'runUUID': '85b3ef52-3435-11e7-8ce9-000d3a27a904',\n",
       "   'timestam_function': False},\n",
       "  'K': None,\n",
       "  'O': [{'Q12': {'@context': {'generatedAt': {'@id': 'http://www.w3.org/ns/prov#generatedAtTime',\n",
       "       '@type': 'http://www.w3.org/2001/XMLSchema#dateTime'},\n",
       "      'sld': 'http://streamreasoning.org/ontologies/SLD4TripleWave#'},\n",
       "     '@id': 'default',\n",
       "     '@type': 'sld:sGraph',\n",
       "     'sld:streamLocation': 'ws://csparql.westeurope.cloudapp.azure.com:9101/Q12/results'}}],\n",
       "  'Q': [{'id': 'Q12', 'status': 'RUNNING', 'type': 'QUERY'}],\n",
       "  'R': None,\n",
       "  'S': ['AarhusTrafficData186979 already exists']},\n",
       " 'Experiment': {'duration': {'time': 2, 'unit': 'minutes'},\n",
       "  'engine': {'dialect': 'CSPARQL',\n",
       "   'host': 'http://csparql.westeurope.cloudapp.azure.com',\n",
       "   'port': 80},\n",
       "  'graphs': [{'serialization': 'RDF/XML', 'default': 'true', 'location': 'https://rsplab.blob.core.windows.net/static/SensorRepository.rdf', 'name': 'SensorRepository'}],\n",
       "  'metadata': {},\n",
       "  'queries': [{'body': 'SELECT  (count(?obId1) as ?obCnt)   FROM STREAM <AarhusTrafficData186979> [RANGE 3s STEP 1s]\\nWHERE { {?p1   a <http://www.insight-centre.org/citytraffic#CongestionLevel>.{?obId1 a ?ob.?obId1 <http://purl.oclc.org/NET/ssnx/ssn#observedProperty> ?p1.?obId1 <http://purl.oclc.org/NET/sao/hasValue> ?v1.?obId1 <http://purl.oclc.org/NET/ssnx/ssn#observedBy> ?service1.}Filter(?v1 >= -1)}\\n}', 'type': 'query', 'structure': {'select_clause': ' (count(?obId1) as ?obCnt)  ', 'streams': [{'scale_factor': 1, 'window': {'step': '1s', 'range': '3s'}, 'location': 'http://triplewave1.westeurope.cloudapp.azure.com:4000/sgraph', 'name': 'AarhusTrafficData186979'}], 'graphs': [{'serialization': 'RDF/XML', 'default': 'true', 'location': 'https://rsplab.blob.core.windows.net/static/SensorRepository.rdf', 'name': 'SensorRepository'}], 'order_by': '', 'group_by': '?service1', 'having': '(count(?obId1) > 3)', 'where_clause': {'default': [' {?p1   a <http://www.insight-centre.org/citytraffic#CongestionLevel>.{?obId1 a ?ob.?obId1 <http://purl.oclc.org/NET/ssnx/ssn#observedProperty> ?p1.?obId1 <http://purl.oclc.org/NET/sao/hasValue> ?v1.?obId1 <http://purl.oclc.org/NET/ssnx/ssn#observedBy> ?service1.}Filter(?v1 >= -1)}'], 'unnamed': [], 'named': []}}, 'dialect': 'CSPARQL', 'name': 'Q12'}],\n",
       "  'streams': [{'scale_factor': 1, 'window': {'step': '1s', 'range': '3s'}, 'location': 'http://triplewave1.westeurope.cloudapp.azure.com:4000/sgraph', 'name': 'AarhusTrafficData186979'}]}}"
      ]
     },
     "execution_count": 11,
     "metadata": {},
     "output_type": "execute_result"
    }
   ],
   "source": [
    "ex.__dict__()"
   ]
  },
  {
   "cell_type": "code",
   "execution_count": 12,
   "metadata": {},
   "outputs": [
    {
     "ename": "TypeError",
     "evalue": "a float is required",
     "output_type": "error",
     "traceback": [
      "\u001b[0;31m---------------------------------------------------------------------------\u001b[0m",
      "\u001b[0;31mTypeError\u001b[0m                                 Traceback (most recent call last)",
      "\u001b[0;32m<ipython-input-12-da11e8684432>\u001b[0m in \u001b[0;36m<module>\u001b[0;34m()\u001b[0m\n\u001b[0;32m----> 1\u001b[0;31m \u001b[0mexecute\u001b[0m\u001b[0;34m(\u001b[0m\u001b[0mex\u001b[0m\u001b[0;34m)\u001b[0m\u001b[0;34m\u001b[0m\u001b[0m\n\u001b[0m",
      "\u001b[0;32m/home/jovyan/work/rsplib/processing/__init__.py\u001b[0m in \u001b[0;36mexecute\u001b[0;34m(execution, stream_running, collect)\u001b[0m\n\u001b[1;32m     90\u001b[0m     \u001b[0mexecution\u001b[0m\u001b[0;34m.\u001b[0m\u001b[0mset_end\u001b[0m\u001b[0;34m(\u001b[0m\u001b[0mnow\u001b[0m\u001b[0;34m(\u001b[0m\u001b[0;34m)\u001b[0m\u001b[0;34m)\u001b[0m\u001b[0;34m\u001b[0m\u001b[0m\n\u001b[1;32m     91\u001b[0m \u001b[0;34m\u001b[0m\u001b[0m\n\u001b[0;32m---> 92\u001b[0;31m     \u001b[0mprint\u001b[0m\u001b[0;34m(\u001b[0m\u001b[0;34m\"Terminating at \"\u001b[0m\u001b[0;34m+\u001b[0m \u001b[0mstr\u001b[0m\u001b[0;34m(\u001b[0m\u001b[0mdatetime\u001b[0m\u001b[0;34m.\u001b[0m\u001b[0mdatetime\u001b[0m\u001b[0;34m.\u001b[0m\u001b[0mfromtimestamp\u001b[0m\u001b[0;34m(\u001b[0m\u001b[0mnow\u001b[0m\u001b[0;34m(\u001b[0m\u001b[0;34m)\u001b[0m\u001b[0;34m)\u001b[0m\u001b[0;34m.\u001b[0m\u001b[0mstrftime\u001b[0m\u001b[0;34m(\u001b[0m\u001b[0;34m'%Y-%m-%d %H:%M:%S'\u001b[0m\u001b[0;34m)\u001b[0m\u001b[0;34m)\u001b[0m\u001b[0;34m)\u001b[0m\u001b[0;34m\u001b[0m\u001b[0m\n\u001b[0m\u001b[1;32m     93\u001b[0m \u001b[0;34m\u001b[0m\u001b[0m\n\u001b[1;32m     94\u001b[0m     \u001b[0;32mfor\u001b[0m \u001b[0mq\u001b[0m \u001b[0;32min\u001b[0m \u001b[0mengine\u001b[0m\u001b[0;34m.\u001b[0m\u001b[0mqueries\u001b[0m\u001b[0;34m(\u001b[0m\u001b[0;34m)\u001b[0m\u001b[0;34m:\u001b[0m\u001b[0;34m\u001b[0m\u001b[0m\n",
      "\u001b[0;31mTypeError\u001b[0m: a float is required"
     ]
    }
   ],
   "source": [
    "execute(ex)"
   ]
  },
  {
   "cell_type": "code",
   "execution_count": 13,
   "metadata": {},
   "outputs": [
    {
     "data": {
      "text/plain": [
       "'85b3ef52-3435-11e7-8ce9-000d3a27a904'"
      ]
     },
     "execution_count": 13,
     "metadata": {},
     "output_type": "execute_result"
    }
   ],
   "source": [
    "ex.experiment_execution['E']['runUUID']"
   ]
  },
  {
   "cell_type": "code",
   "execution_count": 14,
   "metadata": {},
   "outputs": [
    {
     "data": {
      "text/plain": [
       "'2017-05-08 22:24:25'"
      ]
     },
     "execution_count": 14,
     "metadata": {},
     "output_type": "execute_result"
    }
   ],
   "source": [
    "ex.experiment_execution['start_time']"
   ]
  },
  {
   "cell_type": "code",
   "execution_count": 15,
   "metadata": {},
   "outputs": [
    {
     "data": {
      "text/plain": [
       "'2017-05-08 22:26:25'"
      ]
     },
     "execution_count": 15,
     "metadata": {},
     "output_type": "execute_result"
    }
   ],
   "source": [
    "ex.experiment_execution['end_time']"
   ]
  },
  {
   "cell_type": "code",
   "execution_count": 20,
   "metadata": {},
   "outputs": [
    {
     "data": {
      "text/plain": [
       "'csparql'"
      ]
     },
     "execution_count": 20,
     "metadata": {},
     "output_type": "execute_result"
    }
   ],
   "source": [
    "ex.experiment.engine()['dialect'].lower()"
   ]
  },
  {
   "cell_type": "code",
   "execution_count": 28,
   "metadata": {
    "collapsed": true
   },
   "outputs": [],
   "source": [
    "import os\n",
    "root = ex.experiment_execution['E']['runUUID']\n",
    "if not os.path.exists(root):\n",
    "    os.makedirs(root)"
   ]
  },
  {
   "cell_type": "code",
   "execution_count": 39,
   "metadata": {
    "collapsed": true
   },
   "outputs": [],
   "source": [
    "import docker, json\n",
    "def jdefault(o):\n",
    "        return o.__dict__()\n",
    "report = json.dumps(e, default=jdefault, indent=4, sort_keys=True)\n",
    "client = docker.DockerClient(base_url='http://rspcollector.westeurope.cloudapp.azure.com:2375')\n"
   ]
  },
  {
   "cell_type": "code",
   "execution_count": 43,
   "metadata": {},
   "outputs": [
    {
     "data": {
      "text/plain": [
       "[<Image: 'streamreasoning/cqels:latest'>,\n",
       " <Image: 'streamreasoning/csparql:latest'>,\n",
       " <Image: 'streamreasoning/rsplab-notebook:latest'>,\n",
       " <Image: 'monitor_influxsrv:latest'>,\n",
       " <Image: ''>,\n",
       " <Image: ''>,\n",
       " <Image: 'jupyter/datascience-notebook:latest'>,\n",
       " <Image: 'jupyter/minimal-notebook:latest'>,\n",
       " <Image: 'rspsink:latest'>,\n",
       " <Image: 'python:2.7-onbuild'>,\n",
       " <Image: 'collector_grafana:latest', 'grafana/grafana:latest', 'monitor_grafana:latest'>,\n",
       " <Image: 'influxdb:latest'>,\n",
       " <Image: 'busybox:latest'>,\n",
       " <Image: 'ubuntu:latest'>,\n",
       " <Image: 'francescou/docker-compose-ui:1.4.1'>,\n",
       " <Image: 'appcelerator/influxdb:latest'>,\n",
       " <Image: 'google/cadvisor:v0.24.0'>,\n",
       " <Image: 'grafana/grafana:3.1.1'>]"
      ]
     },
     "execution_count": 43,
     "metadata": {},
     "output_type": "execute_result"
    }
   ],
   "source": [
    "client.images.list()"
   ]
  },
  {
   "cell_type": "code",
   "execution_count": 44,
   "metadata": {
    "collapsed": true
   },
   "outputs": [],
   "source": [
    "for qro in ex.experiment_execution['O']:\n",
    "    for q in qro.keys():\n",
    "        ro= qro[q]\n",
    "        client.containers.run(\"rspsink\", name=ro['@id']+\"_collector\", \n",
    "                command=[ro['sld:streamLocation'], q, \"./data/\"+root+\"/\"+ro['@id']+\"/\", str(5), report],\n",
    "                volumes={'resultsdata': {'bind': '/usr/src/app/data', 'mode': 'rw'}}, \n",
    "                detach=True)"
   ]
  },
  {
   "cell_type": "code",
   "execution_count": null,
   "metadata": {
    "collapsed": true
   },
   "outputs": [],
   "source": []
  }
 ],
 "metadata": {
  "kernelspec": {
   "display_name": "Python 3",
   "language": "python",
   "name": "python3"
  },
  "language_info": {
   "codemirror_mode": {
    "name": "ipython",
    "version": 3
   },
   "file_extension": ".py",
   "mimetype": "text/x-python",
   "name": "python",
   "nbconvert_exporter": "python",
   "pygments_lexer": "ipython3",
   "version": "3.5.2"
  }
 },
 "nbformat": 4,
 "nbformat_minor": 2
}
