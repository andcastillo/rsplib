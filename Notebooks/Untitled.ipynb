{
 "cells": [
  {
   "cell_type": "code",
   "execution_count": 4,
   "metadata": {},
   "outputs": [
    {
     "name": "stdout",
     "output_type": "stream",
     "text": [
      "Processing /home/jovyan/work/pygrafana\n",
      "Installing collected packages: pygrafana\n",
      "  Running setup.py install for pygrafana ... \u001b[?25ldone\n",
      "\u001b[?25hSuccessfully installed pygrafana-0.1\n"
     ]
    }
   ],
   "source": [
    "!pip install ../pygrafana/"
   ]
  },
  {
   "cell_type": "code",
   "execution_count": 13,
   "metadata": {},
   "outputs": [],
   "source": [
    "from pygrafana.dashboard import Target, GraphPanel, Row, Dashboard\n",
    "from pygrafana.api import Connection\n",
    "import pygrafana\n",
    "# Establish connection to Grafana\n",
    "c = Connection(\"52.178.103.179\", 3000, \"admin\", \"admin\")\n"
   ]
  },
  {
   "cell_type": "code",
   "execution_count": 14,
   "metadata": {},
   "outputs": [
    {
     "data": {
      "text/plain": [
       "u'4.2.0'"
      ]
     },
     "execution_count": 14,
     "metadata": {},
     "output_type": "execute_result"
    }
   ],
   "source": [
    "if not con.is_connected:\n",
    "    print \"Cannot establish connection\"\n",
    "# Get Grafana version\n",
    "ver = c.get_grafana_version()\n",
    "ver"
   ]
  },
  {
   "cell_type": "code",
   "execution_count": 23,
   "metadata": {},
   "outputs": [
    {
     "name": "stdout",
     "output_type": "stream",
     "text": [
      "{u'meta': {u'canSave': True, u'created': u'2017-05-10T19:13:01Z', u'canStar': True, u'expires': u'0001-01-01T00:00:00Z', u'updated': u'2017-05-10T19:13:01Z', u'slug': u'csparql', u'version': 1, u'createdBy': u'admin', u'updatedBy': u'admin', u'type': u'db', u'canEdit': True}, u'dashboard': {u'version': 1, u'style': u'dark', u'rows': [{u'title': u'Row1', u'panels': [{u'bars': False, u'aliasColors': {}, u'links': [], u'height': u'300px', u'timeFrom': None, u'renderer': u'flot', u'linewidth': 1, u'steppedLine': False, u'id': 4, u'fill': 4, u'span': 12, u'title': u'Container CPU Usage', u'tooltip': {u'sort': 0, u'shared': True, u'value_type': u'cumulative', u'msResolution': False}, u'legend': {u'rightSide': False, u'total': False, u'min': False, u'max': False, u'show': True, u'current': False, u'hideEmpty': True, u'values': False, u'alignAsTable': False, u'avg': False}, u'targets': [{u'function': u'derivative', u'dsType': u'influxdb', u'groupby_field': u'container_name', u'rawQuery': True, u'column': u'value', u'interval': u'5s', u'refId': u'B', u'alias': u'$tag_container_name.cpu', u'select': [[{u'type': u'field', u'params': [u'value']}, {u'type': u'mean', u'params': []}]], u'resultFormat': u'time_series', u'measurement': u'cpu_usage_total', u'policy': u'default', u'query': u'SELECT derivative(mean(\"value\"), 10s) FROM \"cpu_usage_total\" WHERE run.engine=\\'csparql\\' AND run.uuid=\\'ae4c1e28-35b4-11e7-8ce9-000d3a27a904\\' AND $timeFilter GROUP BY time($interval), container_name fill(previous)', u'groupBy': [{u'type': u'time', u'params': [u'$interval']}, {u'type': u'fill', u'params': [u'null']}], u'condition': u\"value > 0 and run.engine='csparql' AND run.uuid='ae4c1e28-35b4-11e7-8ce9-000d3a27a904'\", u'fill': u''}], u'yaxes': [{u'show': True, u'max': None, u'logBase': 1, u'min': 0, u'format': u'hertz'}, {u'show': True, u'max': None, u'logBase': 1, u'min': 0, u'format': u'none'}], u'xaxis': {u'show': True}, u'seriesOverrides': [], u'percentage': False, u'type': u'graph', u'transparent': False, u'error': False, u'editable': True, u'grid': {u'threshold1': None, u'threshold2Color': u'rgba(234, 112, 112, 0.22)', u'threshold2': None, u'threshold1Color': u'rgba(216, 200, 27, 0.27)'}, u'nullPointMode': u'connected', u'stack': False, u'timeShift': None, u'interval': u'', u'lines': True, u'points': False, u'datasource': u'rspengines', u'pointradius': 5}, {u'bars': False, u'timeFrom': None, u'links': [], u'height': u'300px', u'renderer': u'flot', u'linewidth': 1, u'steppedLine': False, u'id': 1, u'fill': 4, u'span': 12, u'title': u'Container Memory Usage', u'tooltip': {u'sort': 0, u'shared': True, u'value_type': u'cumulative', u'msResolution': False}, u'legend': {u'total': False, u'show': True, u'max': False, u'min': False, u'current': False, u'values': False, u'avg': False}, u'targets': [{u'function': u'mean', u'dsType': u'influxdb', u'groupby_field': u'container_name', u'rawQuery': True, u'column': u'value', u'interval': u'10s', u'refId': u'A', u'alias': u'$tag_container_name.memory', u'select': [[{u'type': u'field', u'params': [u'value']}, {u'type': u'mean', u'params': []}]], u'resultFormat': u'time_series', u'measurement': u'memory_usage', u'policy': u'default', u'query': u'SELECT mean(\"value\") FROM \"memory_usage\" WHERE run.engine=\\'csparql\\' AND run.uuid=\\'ae4c1e28-35b4-11e7-8ce9-000d3a27a904\\' AND run.engine=\\'csparql\\' AND run.uuid=\\'ae4c1e28-35b4-11e7-8ce9-000d3a27a904\\' AND $timeFilter GROUP BY time($interval), \"container_name\" fill(previous)', u'groupBy': [{u'type': u'time', u'params': [u'$interval']}, {u'type': u'tag', u'params': [u'container_name']}, {u'type': u'fill', u'params': [u'null']}], u'condition': u\"value <> 0 and run.engine='csparql' AND run.uuid='ae4c1e28-35b4-11e7-8ce9-000d3a27a904'\"}], u'yaxes': [{u'show': True, u'max': None, u'logBase': 1, u'min': 0, u'format': u'bytes'}, {u'show': True, u'max': None, u'logBase': 1, u'min': 0, u'format': u'bytes'}], u'xaxis': {u'show': True}, u'seriesOverrides': [], u'percentage': False, u'type': u'graph', u'error': False, u'editable': True, u'grid': {u'threshold1': None, u'threshold2Color': u'rgba(234, 112, 112, 0.22)', u'threshold2': None, u'threshold1Color': u'rgba(216, 200, 27, 0.27)'}, u'nullPointMode': u'connected', u'stack': False, u'timeShift': None, u'aliasColors': {}, u'lines': True, u'points': False, u'datasource': u'rspengines', u'pointradius': 5}, {u'bars': False, u'aliasColors': {}, u'links': [], u'height': u'300px', u'timeFrom': None, u'renderer': u'flot', u'linewidth': 1, u'steppedLine': False, u'id': 2, u'fill': 4, u'span': 12, u'title': u'Container Network Usage', u'tooltip': {u'sort': 0, u'shared': True, u'value_type': u'cumulative', u'msResolution': False}, u'legend': {u'total': False, u'show': True, u'max': False, u'min': False, u'current': False, u'values': False, u'avg': False}, u'targets': [{u'function': u'derivative', u'dsType': u'influxdb', u'groupby_field': u'container_name', u'rawQuery': True, u'tags': [], u'column': u'value', u'interval': u'1m', u'refId': u'A', u'alias': u'$tag_container_name.tx', u'select': [[{u'type': u'field', u'params': [u'value']}, {u'type': u'mean', u'params': []}]], u'resultFormat': u'time_series', u'policy': u'default', u'query': u'SELECT derivative(mean(\"value\"), 10s)/8 FROM \"tx_bytes\" WHERE run.engine=\\'csparql\\' AND run.uuid=\\'ae4c1e28-35b4-11e7-8ce9-000d3a27a904\\' AND $timeFilter GROUP BY time($interval), container_name fill(previous)', u'groupBy': [{u'type': u'time', u'params': [u'$interval']}, {u'type': u'fill', u'params': [u'null']}], u'condition': u\"value > 0 and run.engine='csparql' AND run.uuid='ae4c1e28-35b4-11e7-8ce9-000d3a27a904'\"}, {u'function': u'derivative', u'dsType': u'influxdb', u'groupby_field': u'container_name', u'rawQuery': True, u'tags': [], u'column': u'value', u'interval': u'1m', u'refId': u'A', u'alias': u'$tag_container_name.rx', u'select': [[{u'type': u'field', u'params': [u'value']}, {u'type': u'mean', u'params': []}]], u'resultFormat': u'time_series', u'policy': u'default', u'query': u'SELECT derivative(mean(\"value\"), 10s)/8 FROM \"rx_bytes\" WHERE run.engine=\\'csparql\\' AND run.uuid=\\'ae4c1e28-35b4-11e7-8ce9-000d3a27a904\\' AND $timeFilter GROUP BY time($interval), container_name fill(previous)', u'groupBy': [{u'type': u'time', u'params': [u'$interval']}, {u'type': u'fill', u'params': [u'null']}], u'condition': u\"value > 0 and run.engine='csparql' AND run.uuid='ae4c1e28-35b4-11e7-8ce9-000d3a27a904'\"}], u'yaxes': [{u'show': True, u'max': None, u'logBase': 1, u'min': None, u'format': u'Bps'}, {u'show': True, u'max': None, u'logBase': 1, u'min': None, u'format': u'short'}], u'xaxis': {u'show': True}, u'seriesOverrides': [], u'percentage': False, u'type': u'graph', u'error': False, u'editable': True, u'grid': {u'threshold1': None, u'threshold2Color': u'rgba(234, 112, 112, 0.22)', u'threshold2': None, u'threshold1Color': u'rgba(216, 200, 27, 0.27)'}, u'nullPointMode': u'connected', u'stack': False, u'timeShift': None, u'interval': u'', u'lines': True, u'points': False, u'datasource': u'rspengines', u'pointradius': 5}, {u'bars': False, u'timeFrom': None, u'links': [], u'height': u'300px', u'renderer': u'flot', u'linewidth': 1, u'steppedLine': False, u'id': 3, u'fill': 4, u'span': 12, u'title': u'Container Filesystem Usage', u'tooltip': {u'sort': 0, u'shared': True, u'value_type': u'cumulative', u'msResolution': False}, u'legend': {u'total': False, u'show': True, u'max': False, u'min': False, u'current': False, u'values': False, u'avg': False}, u'targets': [{u'function': u'mean', u'dsType': u'influxdb', u'groupby_field': u'container_name', u'rawQuery': True, u'column': u'value', u'interval': u'10s', u'refId': u'A', u'alias': u'$tag_container_name.fs_usage', u'select': [[{u'type': u'field', u'params': [u'value']}, {u'type': u'mean', u'params': []}]], u'resultFormat': u'time_series', u'measurement': u'memory_usage', u'policy': u'default', u'query': u'SELECT mean(\"value\") FROM \"fs_usage\" WHERE run.engine=\\'csparql\\' AND run.uuid=\\'ae4c1e28-35b4-11e7-8ce9-000d3a27a904\\' AND run.engine=\\'csparql\\' AND run.uuid=\\'ae4c1e28-35b4-11e7-8ce9-000d3a27a904\\' AND $timeFilter GROUP BY time($interval), \"container_name\" fill(previous)', u'groupBy': [{u'type': u'time', u'params': [u'$interval']}, {u'type': u'tag', u'params': [u'container_name']}, {u'type': u'fill', u'params': [u'null']}], u'condition': u\"value <> 0 and run.engine='csparql' AND run.uuid='ae4c1e28-35b4-11e7-8ce9-000d3a27a904'\"}, {u'function': u'mean', u'dsType': u'influxdb', u'groupby_field': u'container_name', u'rawQuery': True, u'column': u'value', u'interval': u'10s', u'refId': u'A', u'alias': u'$tag_container_name.fs_limit', u'select': [[{u'type': u'field', u'params': [u'value']}, {u'type': u'mean', u'params': []}]], u'resultFormat': u'time_series', u'measurement': u'memory_usage', u'policy': u'default', u'query': u'SELECT mean(\"value\") FROM \"fs_limit\" WHERE run.engine=\\'csparql\\' AND run.uuid=\\'ae4c1e28-35b4-11e7-8ce9-000d3a27a904\\'  AND $timeFilter GROUP BY time($interval), \"container_name\" fill(previous)', u'groupBy': [{u'type': u'time', u'params': [u'$interval']}, {u'type': u'tag', u'params': [u'container_name']}, {u'type': u'fill', u'params': [u'null']}], u'condition': u\"value <> 0 and run.engine='csparql' AND run.uuid='ae4c1e28-35b4-11e7-8ce9-000d3a27a904'\"}], u'yaxes': [{u'show': True, u'max': None, u'logBase': 1, u'min': 0, u'format': u'bytes'}, {u'show': True, u'max': None, u'logBase': 1, u'min': 0, u'format': u'bytes'}], u'xaxis': {u'show': True}, u'seriesOverrides': [], u'percentage': False, u'type': u'graph', u'error': False, u'editable': True, u'grid': {u'threshold1': None, u'threshold2Color': u'rgba(234, 112, 112, 0.22)', u'threshold2': None, u'threshold1Color': u'rgba(216, 200, 27, 0.27)'}, u'nullPointMode': u'connected', u'stack': False, u'timeShift': None, u'aliasColors': {}, u'lines': True, u'points': False, u'datasource': u'rspengines', u'pointradius': 5}], u'editable': True, u'collapse': False, u'height': u'300px'}], u'templating': {u'list': []}, u'links': [], u'tags': [], u'hideControls': False, u'title': u'csparql', u'editable': True, u'id': 24, u'gnetId': None, u'timepicker': {u'status': u'Stable', u'notice': False, u'enable': True, u'collapse': False, u'time_options': [u'5m', u'15m', u'1h', u'6h', u'12h', u'24h', u'2d', u'7d', u'30d'], u'refresh_intervals': [u'5s', u'10s', u'30s', u'1m', u'5m', u'15m', u'30m', u'1h', u'2h', u'1d'], u'now': True, u'type': u'timepicker'}, u'sharedCrosshair': False, u'time': {u'to': u'now', u'from': u'now-5m'}, u'timezone': u'browser', u'schemaVersion': 12, u'annotations': {u'list': []}}}\n"
     ]
    }
   ],
   "source": [
    "print c.get_dashboard(\"csparql\",oid=1)"
   ]
  },
  {
   "cell_type": "code",
   "execution_count": null,
   "metadata": {
    "collapsed": true
   },
   "outputs": [],
   "source": [
    "<iframe src=\"http://52.178.103.179:3000/dashboard-solo/db/csparql?orgId=1&from=1494443406734&to=1494444306734&panelId=1&theme=light\" width=\"450\" height=\"200\" frameborder=\"0\"></iframe>"
   ]
  }
 ],
 "metadata": {
  "kernelspec": {
   "display_name": "Python 2",
   "language": "python",
   "name": "python2"
  }
 },
 "nbformat": 4,
 "nbformat_minor": 2
}
