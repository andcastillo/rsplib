{
 "cells": [
  {
   "cell_type": "code",
   "execution_count": 12,
   "metadata": {},
   "outputs": [
    {
     "name": "stdout",
     "output_type": "stream",
     "text": [
      "Processing /home/jovyan/work\n",
      "Installing collected packages: rsplib\n",
      "  Found existing installation: rsplib 0.2.4\n",
      "    Uninstalling rsplib-0.2.4:\n",
      "      Successfully uninstalled rsplib-0.2.4\n",
      "  Running setup.py install for rsplib ... \u001b[?25ldone\n",
      "\u001b[?25hSuccessfully installed rsplib-0.2.2\n"
     ]
    }
   ],
   "source": [
    "!pip install ../ --upgrade"
   ]
  },
  {
   "cell_type": "code",
   "execution_count": 14,
   "metadata": {
    "collapsed": true
   },
   "outputs": [],
   "source": [
    "from rsplib.experiments import Experiment, ExperimentExecution, Report\n",
    "from rsplib.experiments.workflow import execute, deploy\n",
    "from rsplib.processing.consumer.query import *"
   ]
  },
  {
   "cell_type": "code",
   "execution_count": 15,
   "metadata": {},
   "outputs": [
    {
     "data": {
      "text/plain": [
       "<rsplib.experiments.Experiment at 0x7f8bbcd2cf60>"
      ]
     },
     "execution_count": 15,
     "metadata": {},
     "output_type": "execute_result"
    }
   ],
   "source": [
    "e = Experiment()\n",
    "\n",
    "qname = \"Q1\"\n",
    "e.set_duration(15,\"minutes\")\n",
    "e.add_engine('http://csparql.westeurope.cloudapp.azure.com', 80, Dialects.CSPARQL)\n",
    "\n",
    "q = e.add_query(qname, \"query\", Dialects.CSPARQL)\n",
    "q.set_select_clause(\"?obId1 ?obId2 ?v1 ?v2\")\n",
    "q.set_where_clause(\"{?p1   a <http://www.insight-centre.org/citytraffic#CongestionLevel>.?p2   a <http://www.insight-centre.org/citytraffic#CongestionLevel>. {?obId1 <http://purl.oclc.org/NET/ssnx/ssn#observedProperty> ?p1.?obId1 <http://purl.oclc.org/NET/sao/hasValue> ?v1.?obId1 <http://purl.oclc.org/NET/ssnx/ssn#observedBy> <http://www.insight-centre.org/dataset/SampleEventService#AarhusTrafficData182955>.}{?obId2 <http://purl.oclc.org/NET/ssnx/ssn#observedProperty> ?p2.?obId2 <http://purl.oclc.org/NET/sao/hasValue> ?v2.?obId2 <http://purl.oclc.org/NET/ssnx/ssn#observedBy> <http://www.insight-centre.org/dataset/SampleEventService#AarhusTrafficData158505>.}}\")\n",
    "e.add_windowed_stream(qname,\"AarhusTrafficData182955\", \"http://triplewave1.westeurope.cloudapp.azure.com:4000/sgraph\", '3s','1s' )\n",
    "e.add_windowed_stream(qname,\"AarhusTrafficData158505\", \"http://triplewave1.westeurope.cloudapp.azure.com:4001/sgraph\", '3s','1s' )\n",
    "\n",
    "e.add_graph(qname, \"SensorRepository\", \"https://rsplab.blob.core.windows.net/static/SensorRepository.rdf\", serialization=\"RDF/XML\", default='true')\n",
    "#e.add_graph(qname, \"AarhusLibraryEvents\", \"https://rsplab.blob.core.windows.net/static/AarhusLibraryEvents.rdf\", serialization=\"RDF/XML\", default='true')\n",
    "\n"
   ]
  },
  {
   "cell_type": "code",
   "execution_count": 16,
   "metadata": {},
   "outputs": [
    {
     "data": {
      "text/plain": [
       "{'duration': {'time': 15, 'unit': 'minutes'},\n",
       " 'engine': {'dialect': 'CSPARQL',\n",
       "  'host': 'http://csparql.westeurope.cloudapp.azure.com',\n",
       "  'port': 80},\n",
       " 'graphs': [{'serialization': 'RDF/XML', 'name': 'SensorRepository', 'default': 'true', 'location': 'https://rsplab.blob.core.windows.net/static/SensorRepository.rdf'}],\n",
       " 'metadata': {},\n",
       " 'queries': [{'type': 'query', 'dialect': 'CSPARQL', 'structure': {'having': '', 'where_clause': {'unnamed': [], 'named': [], 'default': ['{?p1   a <http://www.insight-centre.org/citytraffic#CongestionLevel>.?p2   a <http://www.insight-centre.org/citytraffic#CongestionLevel>. {?obId1 <http://purl.oclc.org/NET/ssnx/ssn#observedProperty> ?p1.?obId1 <http://purl.oclc.org/NET/sao/hasValue> ?v1.?obId1 <http://purl.oclc.org/NET/ssnx/ssn#observedBy> <http://www.insight-centre.org/dataset/SampleEventService#AarhusTrafficData182955>.}{?obId2 <http://purl.oclc.org/NET/ssnx/ssn#observedProperty> ?p2.?obId2 <http://purl.oclc.org/NET/sao/hasValue> ?v2.?obId2 <http://purl.oclc.org/NET/ssnx/ssn#observedBy> <http://www.insight-centre.org/dataset/SampleEventService#AarhusTrafficData158505>.}}']}, 'streams': [{'window': {'range': '3s', 'step': '1s'}, 'name': 'AarhusTrafficData182955', 'scale_factor': 1, 'location': 'http://triplewave1.westeurope.cloudapp.azure.com:4000/sgraph'}, {'window': {'range': '3s', 'step': '1s'}, 'name': 'AarhusTrafficData158505', 'scale_factor': 1, 'location': 'http://triplewave1.westeurope.cloudapp.azure.com:4001/sgraph'}], 'graphs': [{'serialization': 'RDF/XML', 'name': 'SensorRepository', 'default': 'true', 'location': 'https://rsplab.blob.core.windows.net/static/SensorRepository.rdf'}], 'order_by': '', 'group_by': '', 'select_clause': '?obId1 ?obId2 ?v1 ?v2'}, 'name': 'Q1', 'body': 'SELECT ?obId1 ?obId2 ?v1 ?v2 FROM STREAM <AarhusTrafficData182955> [RANGE 3s STEP 1s]\\n FROM STREAM <AarhusTrafficData158505> [RANGE 3s STEP 1s]\\nWHERE {{?p1   a <http://www.insight-centre.org/citytraffic#CongestionLevel>.?p2   a <http://www.insight-centre.org/citytraffic#CongestionLevel>. {?obId1 <http://purl.oclc.org/NET/ssnx/ssn#observedProperty> ?p1.?obId1 <http://purl.oclc.org/NET/sao/hasValue> ?v1.?obId1 <http://purl.oclc.org/NET/ssnx/ssn#observedBy> <http://www.insight-centre.org/dataset/SampleEventService#AarhusTrafficData182955>.}{?obId2 <http://purl.oclc.org/NET/ssnx/ssn#observedProperty> ?p2.?obId2 <http://purl.oclc.org/NET/sao/hasValue> ?v2.?obId2 <http://purl.oclc.org/NET/ssnx/ssn#observedBy> <http://www.insight-centre.org/dataset/SampleEventService#AarhusTrafficData158505>.}}\\n}'}],\n",
       " 'streams': [{'window': {'range': '3s', 'step': '1s'}, 'name': 'AarhusTrafficData182955', 'scale_factor': 1, 'location': 'http://triplewave1.westeurope.cloudapp.azure.com:4000/sgraph'},\n",
       "  {'window': {'range': '3s', 'step': '1s'}, 'name': 'AarhusTrafficData158505', 'scale_factor': 1, 'location': 'http://triplewave1.westeurope.cloudapp.azure.com:4001/sgraph'}]}"
      ]
     },
     "execution_count": 16,
     "metadata": {},
     "output_type": "execute_result"
    }
   ],
   "source": [
    "e.__dict__()"
   ]
  },
  {
   "cell_type": "code",
   "execution_count": 17,
   "metadata": {},
   "outputs": [
    {
     "name": "stdout",
     "output_type": "stream",
     "text": [
      "{\"name\":\"csparql\",\"host\":\"csparql/\",\"runUUID\":\"ae4c1e28-35b4-11e7-8ce9-000d3a27a904\",\"port\":8182,\"empty_results\":false,\"inference\":false,\"timestam_function\":false,\"backloop\":true,\"num_streams\":0,\"num_datasets\":0,\"num_queries\":0}\n",
      "Registering static sources: https://rsplab.blob.core.windows.net/static/SensorRepository.rdf\n",
      "\"Dataset SensorRepository succesfully registered with IRI https://rsplab.blob.core.windows.net/static/SensorRepository.rdf\"\n",
      "Registering stream: AarhusTrafficData182955\n",
      "\"Stream AarhusTrafficData182955 succesfully registered with IRI http://triplewave1.westeurope.cloudapp.azure.com:4000/sgraph\"\n",
      "Registering stream: AarhusTrafficData158505\n",
      "\"Stream AarhusTrafficData158505 succesfully registered with IRI http://triplewave1.westeurope.cloudapp.azure.com:4001/sgraph\"\n",
      "Registering query Q1 \n",
      "{'queryBody': 'REGISTER QUERY Q1 AS SELECT ?obId1 ?obId2 ?v1 ?v2 FROM STREAM <AarhusTrafficData182955> [RANGE 3s STEP 1s]\\n FROM STREAM <AarhusTrafficData158505> [RANGE 3s STEP 1s]\\nWHERE {{?p1   a <http://www.insight-centre.org/citytraffic#CongestionLevel>.?p2   a <http://www.insight-centre.org/citytraffic#CongestionLevel>. {?obId1 <http://purl.oclc.org/NET/ssnx/ssn#observedProperty> ?p1.?obId1 <http://purl.oclc.org/NET/sao/hasValue> ?v1.?obId1 <http://purl.oclc.org/NET/ssnx/ssn#observedBy> <http://www.insight-centre.org/dataset/SampleEventService#AarhusTrafficData182955>.}{?obId2 <http://purl.oclc.org/NET/ssnx/ssn#observedProperty> ?p2.?obId2 <http://purl.oclc.org/NET/sao/hasValue> ?v2.?obId2 <http://purl.oclc.org/NET/ssnx/ssn#observedBy> <http://www.insight-centre.org/dataset/SampleEventService#AarhusTrafficData158505>.}}\\n}'}\n",
      "\"Query Q1 succesfully registered\"\n",
      "Query Q1 succesfully registered\n",
      "Registering observers for Q1\n",
      "\"http://csparql.westeurope.cloudapp.azure.com/queries/Q1/observers/default\"\n",
      "{ \"@context\": {\"sld\":\"http://streamreasoning.org/ontologies/SLD4TripleWave#\",\"generatedAt\": {\"@id\":\"http://www.w3.org/ns/prov#generatedAtTime\",\"@type\":\"http://www.w3.org/2001/XMLSchema#dateTime\"}},\"@id\": \"default\",\"@type\": \"sld:sGraph\",\"sld:streamLocation\": \"ws://csparql.westeurope.cloudapp.azure.com:9101/Q1/results\"}\n",
      "[{\"id\":\"Q1\",\"type\":\"QUERY\",\"status\":\"RUNNING\"}]\n"
     ]
    }
   ],
   "source": [
    "ex = deploy(e)"
   ]
  },
  {
   "cell_type": "code",
   "execution_count": 18,
   "metadata": {},
   "outputs": [
    {
     "data": {
      "text/plain": [
       "{'Execution': {'D': ['Dataset SensorRepository succesfully registered with IRI https://rsplab.blob.core.windows.net/static/SensorRepository.rdf'],\n",
       "  'E': {'backloop': True,\n",
       "   'empty_results': False,\n",
       "   'host': 'csparql/',\n",
       "   'inference': False,\n",
       "   'name': 'csparql',\n",
       "   'num_datasets': 0,\n",
       "   'num_queries': 0,\n",
       "   'num_streams': 0,\n",
       "   'port': 8182,\n",
       "   'runUUID': 'ae4c1e28-35b4-11e7-8ce9-000d3a27a904',\n",
       "   'timestam_function': False},\n",
       "  'K': None,\n",
       "  'O': [{'Q1': {'@context': {'generatedAt': {'@id': 'http://www.w3.org/ns/prov#generatedAtTime',\n",
       "       '@type': 'http://www.w3.org/2001/XMLSchema#dateTime'},\n",
       "      'sld': 'http://streamreasoning.org/ontologies/SLD4TripleWave#'},\n",
       "     '@id': 'default',\n",
       "     '@type': 'sld:sGraph',\n",
       "     'sld:streamLocation': 'ws://csparql.westeurope.cloudapp.azure.com:9101/Q1/results'}}],\n",
       "  'Q': [{'id': 'Q1', 'status': 'RUNNING', 'type': 'QUERY'}],\n",
       "  'R': None,\n",
       "  'S': ['Stream AarhusTrafficData182955 succesfully registered with IRI http://triplewave1.westeurope.cloudapp.azure.com:4000/sgraph',\n",
       "   'Stream AarhusTrafficData158505 succesfully registered with IRI http://triplewave1.westeurope.cloudapp.azure.com:4001/sgraph']},\n",
       " 'Experiment': {'duration': {'time': 15, 'unit': 'minutes'},\n",
       "  'engine': {'dialect': 'CSPARQL',\n",
       "   'host': 'http://csparql.westeurope.cloudapp.azure.com',\n",
       "   'port': 80},\n",
       "  'graphs': [{'serialization': 'RDF/XML', 'name': 'SensorRepository', 'default': 'true', 'location': 'https://rsplab.blob.core.windows.net/static/SensorRepository.rdf'}],\n",
       "  'metadata': {},\n",
       "  'queries': [{'type': 'query', 'dialect': 'CSPARQL', 'structure': {'having': '', 'where_clause': {'unnamed': [], 'named': [], 'default': ['{?p1   a <http://www.insight-centre.org/citytraffic#CongestionLevel>.?p2   a <http://www.insight-centre.org/citytraffic#CongestionLevel>. {?obId1 <http://purl.oclc.org/NET/ssnx/ssn#observedProperty> ?p1.?obId1 <http://purl.oclc.org/NET/sao/hasValue> ?v1.?obId1 <http://purl.oclc.org/NET/ssnx/ssn#observedBy> <http://www.insight-centre.org/dataset/SampleEventService#AarhusTrafficData182955>.}{?obId2 <http://purl.oclc.org/NET/ssnx/ssn#observedProperty> ?p2.?obId2 <http://purl.oclc.org/NET/sao/hasValue> ?v2.?obId2 <http://purl.oclc.org/NET/ssnx/ssn#observedBy> <http://www.insight-centre.org/dataset/SampleEventService#AarhusTrafficData158505>.}}']}, 'streams': [{'window': {'range': '3s', 'step': '1s'}, 'name': 'AarhusTrafficData182955', 'scale_factor': 1, 'location': 'http://triplewave1.westeurope.cloudapp.azure.com:4000/sgraph'}, {'window': {'range': '3s', 'step': '1s'}, 'name': 'AarhusTrafficData158505', 'scale_factor': 1, 'location': 'http://triplewave1.westeurope.cloudapp.azure.com:4001/sgraph'}], 'graphs': [{'serialization': 'RDF/XML', 'name': 'SensorRepository', 'default': 'true', 'location': 'https://rsplab.blob.core.windows.net/static/SensorRepository.rdf'}], 'order_by': '', 'group_by': '', 'select_clause': '?obId1 ?obId2 ?v1 ?v2'}, 'name': 'Q1', 'body': 'SELECT ?obId1 ?obId2 ?v1 ?v2 FROM STREAM <AarhusTrafficData182955> [RANGE 3s STEP 1s]\\n FROM STREAM <AarhusTrafficData158505> [RANGE 3s STEP 1s]\\nWHERE {{?p1   a <http://www.insight-centre.org/citytraffic#CongestionLevel>.?p2   a <http://www.insight-centre.org/citytraffic#CongestionLevel>. {?obId1 <http://purl.oclc.org/NET/ssnx/ssn#observedProperty> ?p1.?obId1 <http://purl.oclc.org/NET/sao/hasValue> ?v1.?obId1 <http://purl.oclc.org/NET/ssnx/ssn#observedBy> <http://www.insight-centre.org/dataset/SampleEventService#AarhusTrafficData182955>.}{?obId2 <http://purl.oclc.org/NET/ssnx/ssn#observedProperty> ?p2.?obId2 <http://purl.oclc.org/NET/sao/hasValue> ?v2.?obId2 <http://purl.oclc.org/NET/ssnx/ssn#observedBy> <http://www.insight-centre.org/dataset/SampleEventService#AarhusTrafficData158505>.}}\\n}'}],\n",
       "  'streams': [{'window': {'range': '3s', 'step': '1s'}, 'name': 'AarhusTrafficData182955', 'scale_factor': 1, 'location': 'http://triplewave1.westeurope.cloudapp.azure.com:4000/sgraph'},\n",
       "   {'window': {'range': '3s', 'step': '1s'}, 'name': 'AarhusTrafficData158505', 'scale_factor': 1, 'location': 'http://triplewave1.westeurope.cloudapp.azure.com:4001/sgraph'}]}}"
      ]
     },
     "execution_count": 18,
     "metadata": {},
     "output_type": "execute_result"
    }
   ],
   "source": [
    "ex.__dict__()"
   ]
  },
  {
   "cell_type": "code",
   "execution_count": 19,
   "metadata": {},
   "outputs": [
    {
     "ename": "TypeError",
     "evalue": "a float is required",
     "output_type": "error",
     "traceback": [
      "\u001b[0;31m---------------------------------------------------------------------------\u001b[0m",
      "\u001b[0;31mTypeError\u001b[0m                                 Traceback (most recent call last)",
      "\u001b[0;32m<ipython-input-19-da11e8684432>\u001b[0m in \u001b[0;36m<module>\u001b[0;34m()\u001b[0m\n\u001b[0;32m----> 1\u001b[0;31m \u001b[0mexecute\u001b[0m\u001b[0;34m(\u001b[0m\u001b[0mex\u001b[0m\u001b[0;34m)\u001b[0m\u001b[0;34m\u001b[0m\u001b[0m\n\u001b[0m",
      "\u001b[0;32m/opt/conda/lib/python3.5/site-packages/rsplib/experiments/workflow.py\u001b[0m in \u001b[0;36mexecute\u001b[0;34m(execution, stream_running, collect)\u001b[0m\n\u001b[1;32m     90\u001b[0m     \u001b[0mexecution\u001b[0m\u001b[0;34m.\u001b[0m\u001b[0mset_end\u001b[0m\u001b[0;34m(\u001b[0m\u001b[0mnow\u001b[0m\u001b[0;34m(\u001b[0m\u001b[0;34m)\u001b[0m\u001b[0;34m)\u001b[0m\u001b[0;34m\u001b[0m\u001b[0m\n\u001b[1;32m     91\u001b[0m \u001b[0;34m\u001b[0m\u001b[0m\n\u001b[0;32m---> 92\u001b[0;31m     \u001b[0;31m#print(\"Terminating at \"+ str(datetime.datetime.fromtimestamp(now()).strftime('%Y-%m-%d %H:%M:%S')))\u001b[0m\u001b[0;34m\u001b[0m\u001b[0;34m\u001b[0m\u001b[0m\n\u001b[0m\u001b[1;32m     93\u001b[0m \u001b[0;34m\u001b[0m\u001b[0m\n\u001b[1;32m     94\u001b[0m     \u001b[0;32mfor\u001b[0m \u001b[0mq\u001b[0m \u001b[0;32min\u001b[0m \u001b[0mengine\u001b[0m\u001b[0;34m.\u001b[0m\u001b[0mqueries\u001b[0m\u001b[0;34m(\u001b[0m\u001b[0;34m)\u001b[0m\u001b[0;34m:\u001b[0m\u001b[0;34m\u001b[0m\u001b[0m\n",
      "\u001b[0;31mTypeError\u001b[0m: a float is required"
     ]
    }
   ],
   "source": [
    "execute(ex)"
   ]
  },
  {
   "cell_type": "code",
   "execution_count": null,
   "metadata": {
    "collapsed": true
   },
   "outputs": [],
   "source": [
    "ex.__dict__()"
   ]
  },
  {
   "cell_type": "markdown",
   "metadata": {
    "collapsed": true
   },
   "source": [
    " <iframe src=\"http://52.178.103.179:3000/dashboard-solo/db/csparql?orgId=1&from=1494443406734&to=1494444306734&panelId=1&theme=light\" width=\"450\" height=\"200\" frameborder=\"0\"></iframe>"
   ]
  },
  {
   "cell_type": "code",
   "execution_count": 25,
   "metadata": {},
   "outputs": [
    {
     "data": {
      "text/html": [
       "\n",
       "        <iframe\n",
       "            width=\"700\"\n",
       "            height=\"350\"\n",
       "            src=\"http://52.178.103.179:3000/dashboard/db/csparql?orgId=1&from=now-30m&to=now\"\n",
       "            frameborder=\"0\"\n",
       "            allowfullscreen\n",
       "        ></iframe>\n",
       "        "
      ],
      "text/plain": [
       "<IPython.lib.display.IFrame at 0x7f8bbcd32470>"
      ]
     },
     "execution_count": 25,
     "metadata": {},
     "output_type": "execute_result"
    }
   ],
   "source": [
    "from IPython.display import IFrame\n",
    "IFrame('http://52.178.103.179:3000/dashboard/db/csparql?orgId=1&from=now-30m&to=now', width=700, height=350)"
   ]
  },
  {
   "cell_type": "code",
   "execution_count": 1,
   "metadata": {},
   "outputs": [
    {
     "name": "stdout",
     "output_type": "stream",
     "text": [
      "Collecting pygrafana\n",
      "\u001b[31m  Could not find a version that satisfies the requirement pygrafana (from versions: )\u001b[0m\n",
      "\u001b[31mNo matching distribution found for pygrafana\u001b[0m\n"
     ]
    }
   ],
   "source": [
    "!pip install pygrafana"
   ]
  },
  {
   "cell_type": "code",
   "execution_count": 1,
   "metadata": {},
   "outputs": [
    {
     "ename": "SyntaxError",
     "evalue": "Missing parentheses in call to 'print' (dashboard.py, line 50)",
     "output_type": "error",
     "traceback": [
      "\u001b[0;36m  File \u001b[0;32m\"/opt/conda/lib/python3.5/site-packages/pygrafana/dashboard.py\"\u001b[0;36m, line \u001b[0;32m50\u001b[0m\n\u001b[0;31m    print \"out of range\"\u001b[0m\n\u001b[0m                       ^\u001b[0m\n\u001b[0;31mSyntaxError\u001b[0m\u001b[0;31m:\u001b[0m Missing parentheses in call to 'print'\n"
     ]
    }
   ],
   "source": [
    "from pygrafana.dashboard import Target, GraphPanel, Row, Dashboard\n",
    "from pygrafana.api import Connection"
   ]
  },
  {
   "cell_type": "code",
   "execution_count": null,
   "metadata": {
    "collapsed": true
   },
   "outputs": [],
   "source": []
  }
 ],
 "metadata": {
  "kernelspec": {
   "display_name": "Python 3",
   "language": "python",
   "name": "python3"
  },
  "language_info": {
   "codemirror_mode": {
    "name": "ipython",
    "version": 3
   },
   "file_extension": ".py",
   "mimetype": "text/x-python",
   "name": "python",
   "nbconvert_exporter": "python",
   "pygments_lexer": "ipython3",
   "version": "3.5.2"
  }
 },
 "nbformat": 4,
 "nbformat_minor": 2
}
