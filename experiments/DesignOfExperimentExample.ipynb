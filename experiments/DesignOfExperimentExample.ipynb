{
 "cells": [
  {
   "cell_type": "markdown",
   "metadata": {},
   "source": [
    "# Design of Experiment with RSPLib"
   ]
  },
  {
   "cell_type": "code",
   "execution_count": 4,
   "metadata": {},
   "outputs": [],
   "source": [
    "import rsplib as rsp\n",
    "import json"
   ]
  },
  {
   "cell_type": "code",
   "execution_count": 5,
   "metadata": {
    "collapsed": true
   },
   "outputs": [],
   "source": [
    "e = rsp.Experiment()\n",
    "\n",
    "def jdefault(o):\n",
    "        return o.__dict__()\n",
    "    \n",
    "def pretty_print(exp):\n",
    "    print(json.dumps(exp, default=jdefault, indent=4, sort_keys=True))"
   ]
  },
  {
   "cell_type": "markdown",
   "metadata": {},
   "source": [
    "## Engine Selection"
   ]
  },
  {
   "cell_type": "code",
   "execution_count": 6,
   "metadata": {},
   "outputs": [
    {
     "name": "stdout",
     "output_type": "stream",
     "text": [
      "{\n",
      "    \"engine\": {\n",
      "        \"dialect\": \"CSPARQL\",\n",
      "        \"host\": \"http://csparql.westeurope.cloudapp.azure.com\",\n",
      "        \"port\": 8182\n",
      "    },\n",
      "    \"graphs\": [],\n",
      "    \"metadata\": {},\n",
      "    \"queries\": [],\n",
      "    \"streams\": []\n",
      "}\n"
     ]
    }
   ],
   "source": [
    "e.add_engine('http://csparql.westeurope.cloudapp.azure.com', 8182, rsp.Dialects.CSPARQL)\n",
    "pretty_print(e)"
   ]
  },
  {
   "cell_type": "markdown",
   "metadata": {},
   "source": [
    "## Query Selection"
   ]
  },
  {
   "cell_type": "markdown",
   "metadata": {},
   "source": [
    "### Query 1"
   ]
  },
  {
   "cell_type": "code",
   "execution_count": 7,
   "metadata": {},
   "outputs": [
    {
     "name": "stdout",
     "output_type": "stream",
     "text": [
      "{\n",
      "    \"body\": \"SELECT ?obId1 ?obId2 ?v1 ?v2\\nWHERE {?p1   a <http://www.insight-centre.org/citytraffic#CongestionLevel>.?p2   a <http://www.insight-centre.org/citytraffic#CongestionLevel>. {?obId1 <http://purl.oclc.org/NET/ssnx/ssn#observedProperty> ?p1.?obId1 <http://purl.oclc.org/NET/sao/hasValue> ?v1.?obId1 <http://purl.oclc.org/NET/ssnx/ssn#observedBy> <http://www.insight-centre.org/dataset/SampleEventService#AarhusTrafficData182955>.}{?obId2 <http://purl.oclc.org/NET/ssnx/ssn#observedProperty> ?p2.?obId2 <http://purl.oclc.org/NET/sao/hasValue> ?v2.?obId2 <http://purl.oclc.org/NET/ssnx/ssn#observedBy> <http://www.insight-centre.org/dataset/SampleEventService#AarhusTrafficData158505>.}}\",\n",
      "    \"dialect\": \"CSPARQL\",\n",
      "    \"name\": \"Q1\",\n",
      "    \"type\": \"query\"\n",
      "}\n"
     ]
    }
   ],
   "source": [
    "q = e.add_query(\"Q1\", \"query\", rsp.Dialects.CSPARQL)\n",
    "q.set_select_clause(\"?obId1 ?obId2 ?v1 ?v2\")\n",
    "q.set_where_clause(\"{?p1   a <http://www.insight-centre.org/citytraffic#CongestionLevel>.?p2   a <http://www.insight-centre.org/citytraffic#CongestionLevel>. {?obId1 <http://purl.oclc.org/NET/ssnx/ssn#observedProperty> ?p1.?obId1 <http://purl.oclc.org/NET/sao/hasValue> ?v1.?obId1 <http://purl.oclc.org/NET/ssnx/ssn#observedBy> <http://www.insight-centre.org/dataset/SampleEventService#AarhusTrafficData182955>.}{?obId2 <http://purl.oclc.org/NET/ssnx/ssn#observedProperty> ?p2.?obId2 <http://purl.oclc.org/NET/sao/hasValue> ?v2.?obId2 <http://purl.oclc.org/NET/ssnx/ssn#observedBy> <http://www.insight-centre.org/dataset/SampleEventService#AarhusTrafficData158505>.}}\")\n",
    "\n",
    "pretty_print(q)"
   ]
  },
  {
   "cell_type": "code",
   "execution_count": null,
   "metadata": {
    "collapsed": true
   },
   "outputs": [],
   "source": []
  },
  {
   "cell_type": "markdown",
   "metadata": {},
   "source": [
    "## Streams Selection"
   ]
  },
  {
   "cell_type": "code",
   "execution_count": 8,
   "metadata": {},
   "outputs": [
    {
     "name": "stdout",
     "output_type": "stream",
     "text": [
      "Stream Added\n"
     ]
    }
   ],
   "source": [
    "e.add_windowed_stream(\"Q1\",\"AarhusTrafficData158505\", \"http://triplewave1.westeurope.cloudapp.azure.com:4000/sgraph\", '3s','1s' )\n",
    "print (\"Stream Added\")"
   ]
  },
  {
   "cell_type": "code",
   "execution_count": 9,
   "metadata": {
    "collapsed": true
   },
   "outputs": [],
   "source": [
    "#pretty_print(e)"
   ]
  },
  {
   "cell_type": "markdown",
   "metadata": {},
   "source": [
    "## Graphs Selection"
   ]
  },
  {
   "cell_type": "code",
   "execution_count": 10,
   "metadata": {},
   "outputs": [
    {
     "name": "stdout",
     "output_type": "stream",
     "text": [
      "Graphs Added\n"
     ]
    }
   ],
   "source": [
    "e.add_graph(\"Q1\", \"SensorRepository\", \"https://rsplab.blob.core.windows.net/static/SensorRepository.rdf\", serialization=\"RDF/XML\", default='true')\n",
    "\n",
    "print(\"Graphs Added\")"
   ]
  },
  {
   "cell_type": "code",
   "execution_count": 11,
   "metadata": {
    "collapsed": true
   },
   "outputs": [],
   "source": [
    "#pretty_print(e)"
   ]
  },
  {
   "cell_type": "markdown",
   "metadata": {},
   "source": [
    "### Query 2"
   ]
  },
  {
   "cell_type": "code",
   "execution_count": 12,
   "metadata": {},
   "outputs": [
    {
     "name": "stdout",
     "output_type": "stream",
     "text": [
      "{\n",
      "    \"body\": \"SELECT ?obId1 ?obId2 ?v1 ?v2 FROM STREAM <AarhusParkingDataKALKVAERKSVEJ> [RANGE 3s STEP 3s]\\n\\nWHERE {?p1   a <http://www.insight-centre.org/citytraffic#CongestionLevel>.?p2   a <http://www.insight-centre.org/citytraffic#CongestionLevel>. {?obId1 <http://purl.oclc.org/NET/ssnx/ssn#observedProperty> ?p1.?obId1 <http://purl.oclc.org/NET/sao/hasValue> ?v1.?obId1 <http://purl.oclc.org/NET/ssnx/ssn#observedBy> <http://www.insight-centre.org/dataset/SampleEventService#AarhusTrafficData182955>.}{?obId2 <http://purl.oclc.org/NET/ssnx/ssn#observedProperty> ?p2.?obId2 <http://purl.oclc.org/NET/sao/hasValue> ?v2.?obId2 <http://purl.oclc.org/NET/ssnx/ssn#observedBy> <http://www.insight-centre.org/dataset/SampleEventService#AarhusTrafficData158505>.}}\",\n",
      "    \"dialect\": \"CSPARQL\",\n",
      "    \"name\": \"Q2\",\n",
      "    \"type\": \"query\"\n",
      "}\n"
     ]
    }
   ],
   "source": [
    "q = e.add_query(\"Q2\", \"query\", rsp.Dialects.CSPARQL)\n",
    "q.set_select_clause(\"?obId1 ?obId2 ?v1 ?v2\")\n",
    "q.set_where_clause(\"{?p1   a <http://www.insight-centre.org/citytraffic#CongestionLevel>.?p2   a <http://www.insight-centre.org/citytraffic#CongestionLevel>. {?obId1 <http://purl.oclc.org/NET/ssnx/ssn#observedProperty> ?p1.?obId1 <http://purl.oclc.org/NET/sao/hasValue> ?v1.?obId1 <http://purl.oclc.org/NET/ssnx/ssn#observedBy> <http://www.insight-centre.org/dataset/SampleEventService#AarhusTrafficData182955>.}{?obId2 <http://purl.oclc.org/NET/ssnx/ssn#observedProperty> ?p2.?obId2 <http://purl.oclc.org/NET/sao/hasValue> ?v2.?obId2 <http://purl.oclc.org/NET/ssnx/ssn#observedBy> <http://www.insight-centre.org/dataset/SampleEventService#AarhusTrafficData158505>.}}\")\n",
    "\n",
    "e.add_windowed_stream(\"Q2\",\"AarhusParkingDataKALKVAERKSVEJ\", \"http://triplewave1.westeurope.cloudapp.azure.com:4000/sgraph\", '3s','3s' )\n",
    "\n",
    "pretty_print(q)"
   ]
  },
  {
   "cell_type": "markdown",
   "metadata": {},
   "source": [
    "### Query 3"
   ]
  },
  {
   "cell_type": "code",
   "execution_count": 13,
   "metadata": {},
   "outputs": [
    {
     "name": "stdout",
     "output_type": "stream",
     "text": [
      "{\n",
      "    \"body\": \"SELECT ?obId1 ?obId2 ?v1 ?v2 FROM STREAM <AarhusTrafficData158505> [RANGE 3s STEP 1s]\\n\\nWHERE {?p1   a <http://www.insight-centre.org/citytraffic#CongestionLevel>.?p2   a <http://www.insight-centre.org/citytraffic#CongestionLevel>. {?obId1 <http://purl.oclc.org/NET/ssnx/ssn#observedProperty> ?p1.?obId1 <http://purl.oclc.org/NET/sao/hasValue> ?v1.?obId1 <http://purl.oclc.org/NET/ssnx/ssn#observedBy> <http://www.insight-centre.org/dataset/SampleEventService#AarhusTrafficData182955>.}{?obId2 <http://purl.oclc.org/NET/ssnx/ssn#observedProperty> ?p2.?obId2 <http://purl.oclc.org/NET/sao/hasValue> ?v2.?obId2 <http://purl.oclc.org/NET/ssnx/ssn#observedBy> <http://www.insight-centre.org/dataset/SampleEventService#AarhusTrafficData158505>.}}\",\n",
      "    \"dialect\": \"CSPARQL\",\n",
      "    \"name\": \"Q3\",\n",
      "    \"type\": \"query\"\n",
      "}\n"
     ]
    }
   ],
   "source": [
    "q = e.add_query(\"Q3\", \"query\", rsp.Dialects.CSPARQL)\n",
    "q.set_select_clause(\"?obId1 ?obId2 ?v1 ?v2\")\n",
    "q.set_where_clause(\"{?p1   a <http://www.insight-centre.org/citytraffic#CongestionLevel>.?p2   a <http://www.insight-centre.org/citytraffic#CongestionLevel>. {?obId1 <http://purl.oclc.org/NET/ssnx/ssn#observedProperty> ?p1.?obId1 <http://purl.oclc.org/NET/sao/hasValue> ?v1.?obId1 <http://purl.oclc.org/NET/ssnx/ssn#observedBy> <http://www.insight-centre.org/dataset/SampleEventService#AarhusTrafficData182955>.}{?obId2 <http://purl.oclc.org/NET/ssnx/ssn#observedProperty> ?p2.?obId2 <http://purl.oclc.org/NET/sao/hasValue> ?v2.?obId2 <http://purl.oclc.org/NET/ssnx/ssn#observedBy> <http://www.insight-centre.org/dataset/SampleEventService#AarhusTrafficData158505>.}}\")\n",
    "\n",
    "e.add_windowed_stream(\"Q3\",\"AarhusTrafficData158505\", \"http://triplewave1.westeurope.cloudapp.azure.com:4000/sgraph\", '3s','1s' )\n",
    "\n",
    "pretty_print(q)"
   ]
  },
  {
   "cell_type": "code",
   "execution_count": 14,
   "metadata": {},
   "outputs": [
    {
     "name": "stdout",
     "output_type": "stream",
     "text": [
      "{\"name\":\"csparql\",\"host\":\"csparql/\",\"runUUID\":\"63509a9c-248a-11e7-8ce9-000d3a27a904\",\"port\":8182,\"empty_results\":false,\"inference\":false,\"timestam_function\":false,\"backloop\":true}\n",
      "Registering static sources: SensorRepository\n",
      "\"Dataset SensorRepository succesfully registered with IRI https://rsplab.blob.core.windows.net/static/SensorRepository.rdf\"\n",
      "Registering stream: AarhusTrafficData158505\n",
      "\"AarhusTrafficData158505 already exists\"\n",
      "Registering stream: AarhusParkingDataKALKVAERKSVEJ\n",
      "\"AarhusParkingDataKALKVAERKSVEJ already exists\"\n",
      "Registering stream: AarhusTrafficData158505\n",
      "\"AarhusTrafficData158505 already exists\"\n",
      "Registering query Q1 \n",
      "\"Query with same name already exists\"\n",
      "Query with same name already exists\n",
      "Registering observers for Q1\n",
      "\"http://csparql.westeurope.cloudapp.azure.com:8182/queries/Q1/observers/default\"\n",
      "{ \"@context\": {\"sld\":\"http://streamreasoning.org/ontologies/SLD4TripleWave#\",\"generatedAt\": {\"@id\":\"http://www.w3.org/ns/prov#generatedAtTime\",\"@type\":\"http://www.w3.org/2001/XMLSchema#dateTime\"}},\"@id\": \"default\",\"@type\": \"sld:sGraph\",\"sld:streamLocation\": \"ws://csparql.westeurope.cloudapp.azure.com:9101/Q1/results\"}\n",
      "[{\"id\":\"Q3\",\"type\":\"QUERY\",\"status\":\"RUNNING\"},{\"id\":\"Q2\",\"type\":\"QUERY\",\"status\":\"RUNNING\"},{\"id\":\"Q1\",\"type\":\"QUERY\",\"status\":\"RUNNING\"}]\n",
      "Registering query Q2 \n",
      "\"Query with same name already exists\"\n",
      "Query with same name already exists\n",
      "Registering observers for Q2\n",
      "\"http://csparql.westeurope.cloudapp.azure.com:8182/queries/Q2/observers/default\"\n",
      "{ \"@context\": {\"sld\":\"http://streamreasoning.org/ontologies/SLD4TripleWave#\",\"generatedAt\": {\"@id\":\"http://www.w3.org/ns/prov#generatedAtTime\",\"@type\":\"http://www.w3.org/2001/XMLSchema#dateTime\"}},\"@id\": \"default\",\"@type\": \"sld:sGraph\",\"sld:streamLocation\": \"ws://csparql.westeurope.cloudapp.azure.com:9101/Q2/results\"}\n",
      "[{\"id\":\"Q3\",\"type\":\"QUERY\",\"status\":\"RUNNING\"},{\"id\":\"Q2\",\"type\":\"QUERY\",\"status\":\"RUNNING\"},{\"id\":\"Q1\",\"type\":\"QUERY\",\"status\":\"RUNNING\"}]\n",
      "Registering query Q3 \n",
      "\"Query with same name already exists\"\n",
      "Query with same name already exists\n",
      "Registering observers for Q3\n",
      "\"http://csparql.westeurope.cloudapp.azure.com:8182/queries/Q3/observers/default\"\n",
      "{ \"@context\": {\"sld\":\"http://streamreasoning.org/ontologies/SLD4TripleWave#\",\"generatedAt\": {\"@id\":\"http://www.w3.org/ns/prov#generatedAtTime\",\"@type\":\"http://www.w3.org/2001/XMLSchema#dateTime\"}},\"@id\": \"default\",\"@type\": \"sld:sGraph\",\"sld:streamLocation\": \"ws://csparql.westeurope.cloudapp.azure.com:9101/Q3/results\"}\n",
      "[{\"id\":\"Q3\",\"type\":\"QUERY\",\"status\":\"RUNNING\"},{\"id\":\"Q2\",\"type\":\"QUERY\",\"status\":\"RUNNING\"},{\"id\":\"Q1\",\"type\":\"QUERY\",\"status\":\"RUNNING\"}]\n"
     ]
    }
   ],
   "source": [
    "experiment_execution = rsp.execute(e)"
   ]
  },
  {
   "cell_type": "code",
   "execution_count": 16,
   "metadata": {},
   "outputs": [
    {
     "name": "stdout",
     "output_type": "stream",
     "text": [
      "{\n",
      "    \"Execution\": {\n",
      "        \"D\": [\n",
      "            \"Dataset SensorRepository succesfully registered with IRI https://rsplab.blob.core.windows.net/static/SensorRepository.rdf\"\n",
      "        ],\n",
      "        \"E\": {\n",
      "            \"backloop\": true,\n",
      "            \"empty_results\": false,\n",
      "            \"host\": \"csparql/\",\n",
      "            \"inference\": false,\n",
      "            \"name\": \"csparql\",\n",
      "            \"port\": 8182,\n",
      "            \"runUUID\": \"63509a9c-248a-11e7-8ce9-000d3a27a904\",\n",
      "            \"timestam_function\": false\n",
      "        },\n",
      "        \"K\": null,\n",
      "        \"O\": [\n",
      "            {\n",
      "                \"Q1\": {\n",
      "                    \"@context\": {\n",
      "                        \"generatedAt\": {\n",
      "                            \"@id\": \"http://www.w3.org/ns/prov#generatedAtTime\",\n",
      "                            \"@type\": \"http://www.w3.org/2001/XMLSchema#dateTime\"\n",
      "                        },\n",
      "                        \"sld\": \"http://streamreasoning.org/ontologies/SLD4TripleWave#\"\n",
      "                    },\n",
      "                    \"@id\": \"default\",\n",
      "                    \"@type\": \"sld:sGraph\",\n",
      "                    \"sld:streamLocation\": \"ws://csparql.westeurope.cloudapp.azure.com:9101/Q1/results\"\n",
      "                }\n",
      "            },\n",
      "            {\n",
      "                \"Q2\": {\n",
      "                    \"@context\": {\n",
      "                        \"generatedAt\": {\n",
      "                            \"@id\": \"http://www.w3.org/ns/prov#generatedAtTime\",\n",
      "                            \"@type\": \"http://www.w3.org/2001/XMLSchema#dateTime\"\n",
      "                        },\n",
      "                        \"sld\": \"http://streamreasoning.org/ontologies/SLD4TripleWave#\"\n",
      "                    },\n",
      "                    \"@id\": \"default\",\n",
      "                    \"@type\": \"sld:sGraph\",\n",
      "                    \"sld:streamLocation\": \"ws://csparql.westeurope.cloudapp.azure.com:9101/Q2/results\"\n",
      "                }\n",
      "            },\n",
      "            {\n",
      "                \"Q3\": {\n",
      "                    \"@context\": {\n",
      "                        \"generatedAt\": {\n",
      "                            \"@id\": \"http://www.w3.org/ns/prov#generatedAtTime\",\n",
      "                            \"@type\": \"http://www.w3.org/2001/XMLSchema#dateTime\"\n",
      "                        },\n",
      "                        \"sld\": \"http://streamreasoning.org/ontologies/SLD4TripleWave#\"\n",
      "                    },\n",
      "                    \"@id\": \"default\",\n",
      "                    \"@type\": \"sld:sGraph\",\n",
      "                    \"sld:streamLocation\": \"ws://csparql.westeurope.cloudapp.azure.com:9101/Q3/results\"\n",
      "                }\n",
      "            }\n",
      "        ],\n",
      "        \"Q\": [\n",
      "            {\n",
      "                \"id\": \"Q3\",\n",
      "                \"status\": \"RUNNING\",\n",
      "                \"type\": \"QUERY\"\n",
      "            },\n",
      "            {\n",
      "                \"id\": \"Q2\",\n",
      "                \"status\": \"RUNNING\",\n",
      "                \"type\": \"QUERY\"\n",
      "            },\n",
      "            {\n",
      "                \"id\": \"Q1\",\n",
      "                \"status\": \"RUNNING\",\n",
      "                \"type\": \"QUERY\"\n",
      "            },\n",
      "            {\n",
      "                \"id\": \"Q3\",\n",
      "                \"status\": \"RUNNING\",\n",
      "                \"type\": \"QUERY\"\n",
      "            },\n",
      "            {\n",
      "                \"id\": \"Q2\",\n",
      "                \"status\": \"RUNNING\",\n",
      "                \"type\": \"QUERY\"\n",
      "            },\n",
      "            {\n",
      "                \"id\": \"Q1\",\n",
      "                \"status\": \"RUNNING\",\n",
      "                \"type\": \"QUERY\"\n",
      "            },\n",
      "            {\n",
      "                \"id\": \"Q3\",\n",
      "                \"status\": \"RUNNING\",\n",
      "                \"type\": \"QUERY\"\n",
      "            },\n",
      "            {\n",
      "                \"id\": \"Q2\",\n",
      "                \"status\": \"RUNNING\",\n",
      "                \"type\": \"QUERY\"\n",
      "            },\n",
      "            {\n",
      "                \"id\": \"Q1\",\n",
      "                \"status\": \"RUNNING\",\n",
      "                \"type\": \"QUERY\"\n",
      "            }\n",
      "        ],\n",
      "        \"R\": null,\n",
      "        \"S\": [\n",
      "            \"AarhusTrafficData158505 already exists\",\n",
      "            \"AarhusParkingDataKALKVAERKSVEJ already exists\",\n",
      "            \"AarhusTrafficData158505 already exists\"\n",
      "        ]\n",
      "    },\n",
      "    \"Experiment\": {\n",
      "        \"engine\": {\n",
      "            \"dialect\": \"CSPARQL\",\n",
      "            \"host\": \"http://csparql.westeurope.cloudapp.azure.com\",\n",
      "            \"port\": 8182\n",
      "        },\n",
      "        \"graphs\": [\n",
      "            {\n",
      "                \"default\": \"true\",\n",
      "                \"location\": \"https://rsplab.blob.core.windows.net/static/SensorRepository.rdf\",\n",
      "                \"name\": \"SensorRepository\",\n",
      "                \"serialization\": \"RDF/XML\"\n",
      "            }\n",
      "        ],\n",
      "        \"metadata\": {},\n",
      "        \"queries\": [\n",
      "            {\n",
      "                \"body\": \"SELECT ?obId1 ?obId2 ?v1 ?v2 FROM STREAM <AarhusTrafficData158505> [RANGE 3s STEP 1s]\\nFROM <https://rsplab.blob.core.windows.net/static/SensorRepository.rdf>\\n\\nWHERE {?p1   a <http://www.insight-centre.org/citytraffic#CongestionLevel>.?p2   a <http://www.insight-centre.org/citytraffic#CongestionLevel>. {?obId1 <http://purl.oclc.org/NET/ssnx/ssn#observedProperty> ?p1.?obId1 <http://purl.oclc.org/NET/sao/hasValue> ?v1.?obId1 <http://purl.oclc.org/NET/ssnx/ssn#observedBy> <http://www.insight-centre.org/dataset/SampleEventService#AarhusTrafficData182955>.}{?obId2 <http://purl.oclc.org/NET/ssnx/ssn#observedProperty> ?p2.?obId2 <http://purl.oclc.org/NET/sao/hasValue> ?v2.?obId2 <http://purl.oclc.org/NET/ssnx/ssn#observedBy> <http://www.insight-centre.org/dataset/SampleEventService#AarhusTrafficData158505>.}}\",\n",
      "                \"dialect\": \"CSPARQL\",\n",
      "                \"name\": \"Q1\",\n",
      "                \"type\": \"query\"\n",
      "            },\n",
      "            {\n",
      "                \"body\": \"SELECT ?obId1 ?obId2 ?v1 ?v2 FROM STREAM <AarhusParkingDataKALKVAERKSVEJ> [RANGE 3s STEP 3s]\\n\\nWHERE {?p1   a <http://www.insight-centre.org/citytraffic#CongestionLevel>.?p2   a <http://www.insight-centre.org/citytraffic#CongestionLevel>. {?obId1 <http://purl.oclc.org/NET/ssnx/ssn#observedProperty> ?p1.?obId1 <http://purl.oclc.org/NET/sao/hasValue> ?v1.?obId1 <http://purl.oclc.org/NET/ssnx/ssn#observedBy> <http://www.insight-centre.org/dataset/SampleEventService#AarhusTrafficData182955>.}{?obId2 <http://purl.oclc.org/NET/ssnx/ssn#observedProperty> ?p2.?obId2 <http://purl.oclc.org/NET/sao/hasValue> ?v2.?obId2 <http://purl.oclc.org/NET/ssnx/ssn#observedBy> <http://www.insight-centre.org/dataset/SampleEventService#AarhusTrafficData158505>.}}\",\n",
      "                \"dialect\": \"CSPARQL\",\n",
      "                \"name\": \"Q2\",\n",
      "                \"type\": \"query\"\n",
      "            },\n",
      "            {\n",
      "                \"body\": \"SELECT ?obId1 ?obId2 ?v1 ?v2 FROM STREAM <AarhusTrafficData158505> [RANGE 3s STEP 1s]\\n\\nWHERE {?p1   a <http://www.insight-centre.org/citytraffic#CongestionLevel>.?p2   a <http://www.insight-centre.org/citytraffic#CongestionLevel>. {?obId1 <http://purl.oclc.org/NET/ssnx/ssn#observedProperty> ?p1.?obId1 <http://purl.oclc.org/NET/sao/hasValue> ?v1.?obId1 <http://purl.oclc.org/NET/ssnx/ssn#observedBy> <http://www.insight-centre.org/dataset/SampleEventService#AarhusTrafficData182955>.}{?obId2 <http://purl.oclc.org/NET/ssnx/ssn#observedProperty> ?p2.?obId2 <http://purl.oclc.org/NET/sao/hasValue> ?v2.?obId2 <http://purl.oclc.org/NET/ssnx/ssn#observedBy> <http://www.insight-centre.org/dataset/SampleEventService#AarhusTrafficData158505>.}}\",\n",
      "                \"dialect\": \"CSPARQL\",\n",
      "                \"name\": \"Q3\",\n",
      "                \"type\": \"query\"\n",
      "            }\n",
      "        ],\n",
      "        \"streams\": [\n",
      "            {\n",
      "                \"location\": \"http://triplewave1.westeurope.cloudapp.azure.com:4000/sgraph\",\n",
      "                \"name\": \"AarhusTrafficData158505\",\n",
      "                \"scale_factor\": 1,\n",
      "                \"window\": {\n",
      "                    \"range\": \"3s\",\n",
      "                    \"step\": \"1s\"\n",
      "                }\n",
      "            },\n",
      "            {\n",
      "                \"location\": \"http://triplewave1.westeurope.cloudapp.azure.com:4000/sgraph\",\n",
      "                \"name\": \"AarhusParkingDataKALKVAERKSVEJ\",\n",
      "                \"scale_factor\": 1,\n",
      "                \"window\": {\n",
      "                    \"range\": \"3s\",\n",
      "                    \"step\": \"3s\"\n",
      "                }\n",
      "            },\n",
      "            {\n",
      "                \"location\": \"http://triplewave1.westeurope.cloudapp.azure.com:4000/sgraph\",\n",
      "                \"name\": \"AarhusTrafficData158505\",\n",
      "                \"scale_factor\": 1,\n",
      "                \"window\": {\n",
      "                    \"range\": \"3s\",\n",
      "                    \"step\": \"1s\"\n",
      "                }\n",
      "            }\n",
      "        ]\n",
      "    }\n",
      "}\n"
     ]
    }
   ],
   "source": [
    "pretty_print(experiment_execution)"
   ]
  },
  {
   "cell_type": "code",
   "execution_count": null,
   "metadata": {
    "collapsed": true
   },
   "outputs": [],
   "source": [
    "engine = rsp.RSPClient('http://csparql.westeurope.cloudapp.azure.com', 8182);\n"
   ]
  },
  {
   "cell_type": "code",
   "execution_count": null,
   "metadata": {
    "collapsed": true
   },
   "outputs": [],
   "source": [
    "engine.queries()"
   ]
  },
  {
   "cell_type": "code",
   "execution_count": null,
   "metadata": {
    "collapsed": true
   },
   "outputs": [],
   "source": []
  }
 ],
 "metadata": {
  "kernelspec": {
   "display_name": "Python 3",
   "language": "python",
   "name": "python3"
  },
  "language_info": {
   "codemirror_mode": {
    "name": "ipython",
    "version": 3
   },
   "file_extension": ".py",
   "mimetype": "text/x-python",
   "name": "python",
   "nbconvert_exporter": "python",
   "pygments_lexer": "ipython3",
   "version": "3.5.2"
  }
 },
 "nbformat": 4,
 "nbformat_minor": 2
}
