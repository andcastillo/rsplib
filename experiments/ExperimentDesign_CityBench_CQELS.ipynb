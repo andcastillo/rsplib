{
 "cells": [
  {
   "cell_type": "code",
   "execution_count": 1,
   "metadata": {
    "collapsed": true
   },
   "outputs": [],
   "source": [
    "import rsplib as rsp"
   ]
  },
  {
   "cell_type": "code",
   "execution_count": 2,
   "metadata": {},
   "outputs": [
    {
     "ename": "AttributeError",
     "evalue": "'NoneType' object has no attribute 'add_bgp'",
     "output_type": "error",
     "traceback": [
      "\u001b[0;31m---------------------------------------------------------------------------\u001b[0m",
      "\u001b[0;31mAttributeError\u001b[0m                            Traceback (most recent call last)",
      "\u001b[0;32m<ipython-input-2-3d71195b321c>\u001b[0m in \u001b[0;36m<module>\u001b[0;34m()\u001b[0m\n\u001b[1;32m      8\u001b[0m \u001b[0mq\u001b[0m\u001b[0;34m.\u001b[0m\u001b[0mset_select_clause\u001b[0m\u001b[0;34m(\u001b[0m\u001b[0;34m\"?obId1 ?obId2 ?v1 ?v2\"\u001b[0m\u001b[0;34m)\u001b[0m\u001b[0;34m\u001b[0m\u001b[0m\n\u001b[1;32m      9\u001b[0m \u001b[0mq\u001b[0m\u001b[0;34m.\u001b[0m\u001b[0mset_where_clause\u001b[0m\u001b[0;34m(\u001b[0m\u001b[0;34m\"?p1   a <http://www.insight-centre.org/citytraffic#CongestionLevel>.?p2   a <http://www.insight-centre.org/citytraffic#CongestionLevel>.\"\u001b[0m\u001b[0;34m)\u001b[0m\u001b[0;34m\u001b[0m\u001b[0m\n\u001b[0;32m---> 10\u001b[0;31m \u001b[0me\u001b[0m\u001b[0;34m.\u001b[0m\u001b[0madd_stream\u001b[0m\u001b[0;34m(\u001b[0m\u001b[0mqname\u001b[0m\u001b[0;34m,\u001b[0m\u001b[0;34m\"AarhusTrafficData182955\"\u001b[0m\u001b[0;34m,\u001b[0m \u001b[0;34m\"http://triplewave1.westeurope.cloudapp.azure.com:4000/sgraph\"\u001b[0m\u001b[0;34m)\u001b[0m\u001b[0;34m.\u001b[0m\u001b[0madd_window\u001b[0m\u001b[0;34m(\u001b[0m\u001b[0;34m'3s'\u001b[0m\u001b[0;34m,\u001b[0m\u001b[0;34m'1s'\u001b[0m\u001b[0;34m)\u001b[0m\u001b[0;34m.\u001b[0m\u001b[0madd_bgp\u001b[0m\u001b[0;34m(\u001b[0m\u001b[0;34m\"{?obId1 a ?ob.?obId1 <http://purl.oclc.org/NET/ssnx/ssn#observedProperty> ?p1.?obId1 <http://purl.oclc.org/NET/sao/hasValue> ?v1.?obId1 <http://purl.oclc.org/NET/ssnx/ssn#observedBy> <http://www.insight-centre.org/dataset/SampleEventService#AarhusTrafficData182955>.}\"\u001b[0m\u001b[0;34m)\u001b[0m\u001b[0;34m\u001b[0m\u001b[0m\n\u001b[0m\u001b[1;32m     11\u001b[0m \u001b[0me\u001b[0m\u001b[0;34m.\u001b[0m\u001b[0madd_stream\u001b[0m\u001b[0;34m(\u001b[0m\u001b[0mqname\u001b[0m\u001b[0;34m,\u001b[0m\u001b[0;34m\"AarhusTrafficData158505\"\u001b[0m\u001b[0;34m,\u001b[0m \u001b[0;34m\"http://triplewave1.westeurope.cloudapp.azure.com:4001/sgraph\"\u001b[0m\u001b[0;34m)\u001b[0m\u001b[0;34m.\u001b[0m\u001b[0madd_window\u001b[0m\u001b[0;34m(\u001b[0m\u001b[0;34m'3s'\u001b[0m\u001b[0;34m,\u001b[0m\u001b[0;34m'1s'\u001b[0m\u001b[0;34m)\u001b[0m\u001b[0;34m.\u001b[0m\u001b[0madd_bgp\u001b[0m\u001b[0;34m(\u001b[0m\u001b[0;34m\"{?obId2 a ?ob.?obId2 <http://purl.oclc.org/NET/ssnx/ssn#observedProperty> ?p2.?obId2 <http://purl.oclc.org/NET/sao/hasValue> ?v2.?obId2 <http://purl.oclc.org/NET/ssnx/ssn#observedBy> <http://www.insight-centre.org/dataset/SampleEventService#AarhusTrafficData158505>.}\"\u001b[0m\u001b[0;34m)\u001b[0m\u001b[0;34m\u001b[0m\u001b[0m\n\u001b[1;32m     12\u001b[0m \u001b[0;34m\u001b[0m\u001b[0m\n",
      "\u001b[0;31mAttributeError\u001b[0m: 'NoneType' object has no attribute 'add_bgp'"
     ]
    }
   ],
   "source": [
    "e = rsp.Experiment()\n",
    "qname = \"Q1\"\n",
    "experimentName = \"/experiment1.json\"\n",
    "\n",
    "e.add_engine('http://cqels.westeurope.cloudapp.azure.com', 80, rsp.Dialects.CQELS)\n",
    "\n",
    "q = e.add_query(qname, \"query\", rsp.Dialects.CQELS)\n",
    "q.set_select_clause(\"?obId1 ?obId2 ?v1 ?v2\")\n",
    "q.set_where_clause(\"?p1   a <http://www.insight-centre.org/citytraffic#CongestionLevel>.?p2   a <http://www.insight-centre.org/citytraffic#CongestionLevel>.\")\n",
    "e.add_stream(qname,\"AarhusTrafficData182955\", \"http://triplewave1.westeurope.cloudapp.azure.com:4000/sgraph\").add_window('3s','1s').add_bgp(\"{?obId1 a ?ob.?obId1 <http://purl.oclc.org/NET/ssnx/ssn#observedProperty> ?p1.?obId1 <http://purl.oclc.org/NET/sao/hasValue> ?v1.?obId1 <http://purl.oclc.org/NET/ssnx/ssn#observedBy> <http://www.insight-centre.org/dataset/SampleEventService#AarhusTrafficData182955>.}\")\n",
    "e.add_stream(qname,\"AarhusTrafficData158505\", \"http://triplewave1.westeurope.cloudapp.azure.com:4001/sgraph\").add_window('3s','1s').add_bgp(\"{?obId2 a ?ob.?obId2 <http://purl.oclc.org/NET/ssnx/ssn#observedProperty> ?p2.?obId2 <http://purl.oclc.org/NET/sao/hasValue> ?v2.?obId2 <http://purl.oclc.org/NET/ssnx/ssn#observedBy> <http://www.insight-centre.org/dataset/SampleEventService#AarhusTrafficData158505>.}\")\n",
    "\n",
    "#e.add_windowed_stream(qname,\"AarhusTrafficData182955\", \"http://triplewave1.westeurope.cloudapp.azure.com:4000/sgraph\", '3s','1s' )\n",
    "#e.add_windowed_stream(qname,\"AarhusTrafficData158505\", \"http://triplewave1.westeurope.cloudapp.azure.com:4000/sgraph\", '3s','1s' )\n",
    "\n",
    "#e.add_graph(qname, \"SensorRepository\", \"https://rsplab.blob.core.windows.net/static/SensorRepository.rdf\", serialization=\"RDF/XML\", default='true')\n",
    "#e.add_graph(qname, \"AarhusLibraryEvents\", \"https://rsplab.blob.core.windows.net/static/AarhusLibraryEvents.rdf\", serialization=\"RDF/XML\", default='true')\n",
    "\n"
   ]
  },
  {
   "cell_type": "code",
   "execution_count": 10,
   "metadata": {},
   "outputs": [
    {
     "data": {
      "text/plain": [
       "'http://triplewave1.westeurope.cloudapp.azure.com:4000/sgraph'"
      ]
     },
     "execution_count": 10,
     "metadata": {},
     "output_type": "execute_result"
    }
   ],
   "source": [
    "q.streams[0].location"
   ]
  },
  {
   "cell_type": "code",
   "execution_count": null,
   "metadata": {
    "collapsed": true
   },
   "outputs": [],
   "source": []
  },
  {
   "cell_type": "code",
   "execution_count": 3,
   "metadata": {
    "collapsed": true
   },
   "outputs": [],
   "source": [
    "import json\n",
    "\n",
    "base_dir = \"./experiment_cqels\"\n",
    "def jdefault(o):\n",
    "        return o.__dict__()\n",
    "    \n",
    "with open(base_dir+experimentName, \"w\") as myfile:\n",
    "    myfile.write(json.dumps(e, default=jdefault, indent=4, sort_keys=True))\n"
   ]
  },
  {
   "cell_type": "code",
   "execution_count": 4,
   "metadata": {},
   "outputs": [
    {
     "name": "stdout",
     "output_type": "stream",
     "text": [
      "{\"name\":\"cqels\",\"host\":\"cqels/\",\"runUUID\":\"6b9ddebe-2776-11e7-85a8-000d3a2755dc\",\"port\":8182,\"empty_results\":false,\"inference\":false,\"timestam_function\":false,\"backloop\":true,\"num_streams\":0,\"num_datasets\":0,\"num_queries\":0}\n",
      "Registering stream: AarhusTrafficData182955\n",
      "\"Stream AarhusTrafficData182955 succesfully registered with IRI http://triplewave1.westeurope.cloudapp.azure.com:4000/sgraph\"\n",
      "Registering stream: AarhusTrafficData158505\n",
      "\"Stream AarhusTrafficData158505 succesfully registered with IRI http://triplewave1.westeurope.cloudapp.azure.com:4000/sgraph\"\n",
      "Registering query Q1 \n",
      "\"Query name specified in the uri must be equals to the name contained in the query body\"\n",
      "Query name specified in the uri must be equals to the name contained in the query body\n",
      "Registering observers for Q1\n",
      "\"Q1 ID is not associated to any registered query\"\n",
      "\"Q1 ID is not associated to any registered query\"\n",
      "[]\n"
     ]
    },
    {
     "data": {
      "text/plain": [
       "<rsplib.ExperimentExecution at 0x7f22edc00630>"
      ]
     },
     "execution_count": 4,
     "metadata": {},
     "output_type": "execute_result"
    }
   ],
   "source": [
    "rsp.execute(e)"
   ]
  },
  {
   "cell_type": "code",
   "execution_count": null,
   "metadata": {
    "collapsed": true
   },
   "outputs": [],
   "source": []
  }
 ],
 "metadata": {
  "kernelspec": {
   "display_name": "Python 3",
   "language": "python",
   "name": "python3"
  },
  "language_info": {
   "codemirror_mode": {
    "name": "ipython",
    "version": 3
   },
   "file_extension": ".py",
   "mimetype": "text/x-python",
   "name": "python",
   "nbconvert_exporter": "python",
   "pygments_lexer": "ipython3",
   "version": "3.5.2"
  }
 },
 "nbformat": 4,
 "nbformat_minor": 2
}
