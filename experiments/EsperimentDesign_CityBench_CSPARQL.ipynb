{
 "cells": [
  {
   "cell_type": "code",
   "execution_count": 102,
   "metadata": {
    "collapsed": true
   },
   "outputs": [],
   "source": [
    "import rsplib as rsp"
   ]
  },
  {
   "cell_type": "code",
   "execution_count": 116,
   "metadata": {
    "scrolled": true
   },
   "outputs": [
    {
     "data": {
      "text/plain": [
       "<rsplib.Experiment at 0x7f87ccf73be0>"
      ]
     },
     "execution_count": 116,
     "metadata": {},
     "output_type": "execute_result"
    }
   ],
   "source": [
    "e = rsp.Experiment()\n",
    "repetition=10\n",
    "qname = \"Q11\"\n",
    "experimentName = \"/experiment11.json\"\n",
    "\n",
    "e.add_engine('http://csparql.westeurope.cloudapp.azure.com', 80, rsp.Dialects.CSPARQL)\n",
    "\n",
    "q = e.add_query(qname, \"query\", rsp.Dialects.CSPARQL)\n",
    "q.set_select_clause(\"ASK\")\n",
    "q.set_where_clause(\"{ {?obId1 a ?ob.?obId1 <http://purl.oclc.org/NET/ssnx/ssn#observedProperty> ?p1.?obId1 <http://purl.oclc.org/NET/sao/hasValue> ?v1.?obId1 <http://purl.oclc.org/NET/ssnx/ssn#observedBy> <http://www.insight-centre.org/dataset/SampleEventService#AarhusWeatherData0>.}Filter (!bound(?obId1))}\")\n",
    "e.add_windowed_stream(qname,\"AarhusWeatherData0\", \"http://triplewave1.westeurope.cloudapp.azure.com:4000/sgraph\", '3s','1s' )\n",
    "\n",
    "#e.add_graph(qname, \"SensorRepository\", \"https://rsplab.blob.core.windows.net/static/SensorRepository.rdf\", serialization=\"RDF/XML\", default='true')\n",
    "#e.add_graph(qname, \"AarhusLibraryEvents\", \"https://rsplab.blob.core.windows.net/static/AarhusLibraryEvents.rdf\", serialization=\"RDF/XML\", default='true')\n",
    "\n"
   ]
  },
  {
   "cell_type": "code",
   "execution_count": 117,
   "metadata": {},
   "outputs": [
    {
     "data": {
      "text/plain": [
       "{'name': 'Q11', 'body': 'SELECT ASK FROM STREAM <AarhusWeatherData0> [RANGE 3s STEP 1s]\\n\\nWHERE { {?obId1 a ?ob.?obId1 <http://purl.oclc.org/NET/ssnx/ssn#observedProperty> ?p1.?obId1 <http://purl.oclc.org/NET/sao/hasValue> ?v1.?obId1 <http://purl.oclc.org/NET/ssnx/ssn#observedBy> <http://www.insight-centre.org/dataset/SampleEventService#AarhusWeatherData0>.}Filter (!bound(?obId1))}', 'dialect': 'CSPARQL', 'type': 'query'}"
      ]
     },
     "execution_count": 117,
     "metadata": {},
     "output_type": "execute_result"
    }
   ],
   "source": [
    "q"
   ]
  },
  {
   "cell_type": "code",
   "execution_count": 118,
   "metadata": {
    "collapsed": true
   },
   "outputs": [],
   "source": [
    "import json\n",
    "\n",
    "base_dir = \"./experiment_csparql\"\n",
    "def jdefault(o):\n",
    "        return o.__dict__()\n",
    "    \n",
    "with open(base_dir+experimentName, \"w\") as myfile:\n",
    "    myfile.write(json.dumps(e, default=jdefault, indent=4, sort_keys=True))\n"
   ]
  },
  {
   "cell_type": "code",
   "execution_count": 119,
   "metadata": {},
   "outputs": [
    {
     "name": "stdout",
     "output_type": "stream",
     "text": [
      "{\"name\":\"csparql\",\"host\":\"csparql/\",\"runUUID\":\"0ca67236-2776-11e7-8ce9-000d3a27a904\",\"port\":8182,\"empty_results\":false,\"inference\":false,\"timestam_function\":false,\"backloop\":true,\"num_streams\":2,\"num_datasets\":1,\"num_queries\":1}\n",
      "Registering stream: AarhusWeatherData0\n",
      "\"AarhusWeatherData0 already exists\"\n",
      "Registering query Q11 \n",
      "\"Error while registering query body\"\n",
      "Error while registering query body\n",
      "Registering observers for Q11\n",
      "\"Q11 ID is not associated to any registered query\"\n",
      "\"Q11 ID is not associated to any registered query\"\n",
      "[{\"id\":\"Q12\",\"type\":\"QUERY\",\"status\":\"RUNNING\"}]\n"
     ]
    },
    {
     "data": {
      "text/plain": [
       "<rsplib.ExperimentExecution at 0x7f87ccf73e10>"
      ]
     },
     "execution_count": 119,
     "metadata": {},
     "output_type": "execute_result"
    }
   ],
   "source": [
    "rsp.execute(e)"
   ]
  },
  {
   "cell_type": "code",
   "execution_count": null,
   "metadata": {
    "collapsed": true
   },
   "outputs": [],
   "source": []
  }
 ],
 "metadata": {
  "kernelspec": {
   "display_name": "Python 3",
   "language": "python",
   "name": "python3"
  },
  "language_info": {
   "codemirror_mode": {
    "name": "ipython",
    "version": 3
   },
   "file_extension": ".py",
   "mimetype": "text/x-python",
   "name": "python",
   "nbconvert_exporter": "python",
   "pygments_lexer": "ipython3",
   "version": "3.5.2"
  }
 },
 "nbformat": 4,
 "nbformat_minor": 2
}
