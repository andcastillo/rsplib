{
 "cells": [
  {
   "cell_type": "code",
   "execution_count": 1,
   "metadata": {},
   "outputs": [
    {
     "name": "stdout",
     "output_type": "stream",
     "text": [
      "SELECT ?obId1 ?obId2 ?v1 ?v2  FROM STREAM <AarhusPollutionData182955> [range 3s step 1s]\n",
      " FROM STREAM <AarhusPollutionData182955> [range 3s step 1s]\n",
      " FROM STREAM <AarhusPollutionData182955> [range 3s step 1s]\n",
      " FROM STREAM <AarhusPollutionData182955> [range 3s step 1s]\n",
      "WHERE {?p1   a <http://www.insight-centre.org/citytraffic#ParkingVacancy>. ?p2   a <http://www.insight-centre.org/citytraffic#CongestionLevel>. {?obId1 a ?ob. ?obId1 <http://purl.oclc.org/NET/ssnx/ssn#observedProperty> ?p1. ?obId1 <http://purl.oclc.org/NET/sao/hasValue> ?v1.?obId1 <http://purl.oclc.org/NET/ssnx/ssn#observedBy> <http://www.insight-centre.org/dataset/SampleEventService#AarhusParkingDataKALKVAERKSVEJ>. }{?obId2 a ?ob.?obId2 <http://purl.oclc.org/NET/ssnx/ssn#observedProperty> ?p2.?obId2 <http://purl.oclc.org/NET/sao/hasValue> ?v2.?obId2 <http://purl.oclc.org/NET/ssnx/ssn#observedBy> <http://www.insight-centre.org/dataset/SampleEventService#AarhusTrafficData158505>.}}\n"
     ]
    }
   ],
   "source": [
    "from query import Query\n",
    "\n",
    "my_query = Query(\"test\",\"query\")\n",
    "\n",
    "stream = \"AarhusPollutionData182955\"\n",
    "my_query.add_windowed_stream(stream,\"3s\",\"1s\")\n",
    "my_query.add_windowed_stream(stream,\"3s\",\"1s\")\n",
    "my_query.add_windowed_stream(stream,\"3s\",\"1s\")\n",
    "my_query.add_windowed_stream(stream,\"3s\",\"1s\")\n",
    "\n",
    "my_query.add_dataset(\"http://127.0.0.1:9000/WebGlCity/SensorRepository.rdf\")\n",
    "\n",
    "my_query.set_select_clause(\"?obId1 ?obId2 ?v1 ?v2 \")\n",
    "my_query.set_where_clause(\"{?p1   a <http://www.insight-centre.org/citytraffic#ParkingVacancy>. ?p2   a <http://www.insight-centre.org/citytraffic#CongestionLevel>. {?obId1 a ?ob. ?obId1 <http://purl.oclc.org/NET/ssnx/ssn#observedProperty> ?p1. ?obId1 <http://purl.oclc.org/NET/sao/hasValue> ?v1.?obId1 <http://purl.oclc.org/NET/ssnx/ssn#observedBy> <http://www.insight-centre.org/dataset/SampleEventService#AarhusParkingDataKALKVAERKSVEJ>. }{?obId2 a ?ob.?obId2 <http://purl.oclc.org/NET/ssnx/ssn#observedProperty> ?p2.?obId2 <http://purl.oclc.org/NET/sao/hasValue> ?v2.?obId2 <http://purl.oclc.org/NET/ssnx/ssn#observedBy> <http://www.insight-centre.org/dataset/SampleEventService#AarhusTrafficData158505>.}}\")\n",
    "\n",
    "print(my_query.to_string_csparql())"
   ]
  },
  {
   "cell_type": "code",
   "execution_count": null,
   "metadata": {
    "collapsed": true
   },
   "outputs": [],
   "source": []
  },
  {
   "cell_type": "code",
   "execution_count": null,
   "metadata": {
    "collapsed": true
   },
   "outputs": [],
   "source": []
  },
  {
   "cell_type": "code",
   "execution_count": null,
   "metadata": {
    "collapsed": true
   },
   "outputs": [],
   "source": []
  }
 ],
 "metadata": {
  "kernelspec": {
   "display_name": "Python 3",
   "language": "python",
   "name": "python3"
  },
  "language_info": {
   "codemirror_mode": {
    "name": "ipython",
    "version": 3
   },
   "file_extension": ".py",
   "mimetype": "text/x-python",
   "name": "python",
   "nbconvert_exporter": "python",
   "pygments_lexer": "ipython3",
   "version": "3.5.2"
  }
 },
 "nbformat": 4,
 "nbformat_minor": 2
}
