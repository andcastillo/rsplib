{
 "cells": [
  {
   "cell_type": "code",
   "execution_count": 14,
   "metadata": {},
   "outputs": [
    {
     "name": "stdout",
     "output_type": "stream",
     "text": [
      "{\n",
      "    \"engine\": {\n",
      "        \"host\": \"http://csparql.westeurope.cloudapp.azure.com\",\n",
      "        \"port\": 8182\n",
      "    },\n",
      "    \"metadata\": {\n",
      "        \"data\": \"Tue Apr  4 15:05:33 CEST 2017\",\n",
      "        \"duration\": 10,\n",
      "        \"id\": \"1\"\n",
      "    },\n",
      "    \"queries\": [\n",
      "        {\n",
      "            \"body\": \"REGISTER STREAM Q2 AS CONSTRUCT {?s ?p ?o} FROM STREAM <AarhusTrafficData158505> [RANGE 30s STEP 5s] \\n FROM STREAM <AarhusTrafficData182955> [RANGE 30s STEP 5s] WHERE {?s ?p ?o}\",\n",
      "            \"name\": \"Q2\",\n",
      "            \"observers\": [\n",
      "                {\n",
      "                    \"host\": \"csparql.westeurope.cloudapp.azure.com\",\n",
      "                    \"name\": \"observer3\",\n",
      "                    \"persist\": true,\n",
      "                    \"port\": 9101,\n",
      "                    \"type\": \"ws\"\n",
      "                }\n",
      "            ],\n",
      "            \"repeat\": 1,\n",
      "            \"result_path\": \"./\"\n",
      "        }\n",
      "    ],\n",
      "    \"static\": [],\n",
      "    \"streams\": [\n",
      "        {\n",
      "            \"location\": \"http://triplewave1.westeurope.cloudapp.azure.com:4000/sgraph\",\n",
      "            \"name\": \"AarhusTrafficData158505\",\n",
      "            \"scale_factor\": 1\n",
      "        },\n",
      "        {\n",
      "            \"location\": \"http://triplewave1.westeurope.cloudapp.azure.com:4001/sgraph\",\n",
      "            \"name\": \"AarhusTrafficData182955\",\n",
      "            \"scale_factor\": 1\n",
      "        }\n",
      "    ]\n",
      "}\n",
      "{'port': 8182, 'host': 'http://csparql.westeurope.cloudapp.azure.com'}\n",
      "8182\n",
      "Registering stream: AarhusTrafficData158505\n",
      "Registering stream: AarhusTrafficData182955\n",
      "Registering query Q2 1 times.\n",
      "Query Q2 succesfully registered\n",
      "Registering observers for Q2 : observer3\n",
      "END\n"
     ]
    }
   ],
   "source": [
    "import docker, json, os\n",
    "import urllib.request\n",
    "from RSPClient import RSPClient\n",
    "\n",
    "tobserve = []\n",
    "rsp = None\n",
    "experiment_execution={}\n",
    "\n",
    "def w(p, i):\n",
    "    experiment_execution[p] = i\n",
    "\n",
    "webURL= urllib.request.urlopen('https://rsplab.blob.core.windows.net/experiments/experiment.json')\n",
    "data = webURL.read()\n",
    "encoding = webURL.info().get_content_charset('utf-8')\n",
    "experiment = json.loads(data.decode(encoding))\n",
    "\n",
    "print(json.dumps(experiment, indent=4, sort_keys=True))\n",
    "print(experiment['engine'])\n",
    "print(experiment['engine']['port'])\n",
    "\n",
    "docker.DockerClient(base_url='http://rspcollector.westeurope.cloudapp.azure.com:2375')\n",
    "\n",
    "rsp = RSPClient(experiment['engine']['host'], experiment['engine']['port'])\n",
    "\n",
    "experiment_execution['Experiment'] = experiment\n",
    "experiment_execution['E'] = rsp.engine()\n",
    "experiment_execution['D'] = experiment['static']\n",
    "experiment_execution['S'] = None\n",
    "experiment_execution['Q'] = []\n",
    "experiment_execution['K'] = None # save the KPIs\n",
    "experiment_execution['R'] = None # save the result location\n",
    "\n",
    "root = experiment_execution['E']['runUUID']\n",
    "\n",
    "streams=[]\n",
    "for s in experiment['streams']:\n",
    "    \tprint(\"Registering stream: \" + str(s['name']))\n",
    "    \tstreams.append(rsp.register_stream( s['name'], s['location'] ))\n",
    "\n",
    "w('S',streams)\n",
    "\n",
    "for q in experiment['queries']:\n",
    "    print(\"Registering query \" + q['name'] +\" \"+ str(q['repeat']) + \" times.\")\n",
    "    for i in range(0,q['repeat']):\n",
    "        print(rsp.register_query(q['name'], q['body']))\n",
    "        for o in  q['observers']:\n",
    "            print(\"Registering observers for \"+q['name']+ \" : \" + o['name'])\n",
    "            ro = rsp.new_observer(q['name'], o['name'], o);\n",
    "            if o['persist']:\n",
    "                tobserve.append((q,ro));\n",
    "        w('Q', rsp.queries());\n",
    "\n",
    "pretty=json.dumps(experiment_execution, indent=4, sort_keys=True)\n",
    "\n",
    "for (q,ro) in tobserve:\n",
    "    client.containers.run(\"rspsink\", name=ro['id']+\"_collector\",\n",
    "                                     command=[ro['observer']['dataPath'], q['name'], \"./data/\"+root+\"/\"+q[\"result_path\"]+ro['id']+\"/\", str(experiment['metadata']['duration']), pretty],\n",
    "                                     volumes={'resultsdata': {'bind': '/usr/src/app/data', 'mode': 'rw'}},\n",
    "                                     detach=True)\n",
    "\n",
    "    \n",
    "client.containers.list()\n",
    "print(\"END\")"
   ]
  },
  {
   "cell_type": "code",
   "execution_count": 13,
   "metadata": {},
   "outputs": [
    {
     "data": {
      "text/plain": [
       "{'backloop': True,\n",
       " 'empty_results': False,\n",
       " 'host': 'cqels/',\n",
       " 'inference': False,\n",
       " 'name': 'cqels',\n",
       " 'port': 8182,\n",
       " 'runUUID': '55e77d10-1b9f-11e7-85a8-000d3a2755dc',\n",
       " 'timestam_function': False}"
      ]
     },
     "execution_count": 13,
     "metadata": {},
     "output_type": "execute_result"
    }
   ],
   "source": []
  },
  {
   "cell_type": "code",
   "execution_count": 16,
   "metadata": {},
   "outputs": [
    {
     "data": {
      "text/plain": [
       "[{'id': 'Q1', 'status': 'RUNNING', 'type': 'STREAM'},\n",
       " {'id': 'Q10x5', 'status': 'RUNNING', 'type': 'STREAM'}]"
      ]
     },
     "execution_count": 16,
     "metadata": {},
     "output_type": "execute_result"
    }
   ],
   "source": []
  },
  {
   "cell_type": "code",
   "execution_count": 4,
   "metadata": {},
   "outputs": [],
   "source": [
    "imporclient = docker.DockerClient(base_url='http://rspcollector.westeurope.cloudapp.azure.com:2375')"
   ]
  },
  {
   "cell_type": "code",
   "execution_count": 5,
   "metadata": {},
   "outputs": [
    {
     "data": {
      "text/plain": [
       "[<Image: ''>,\n",
       " <Image: ''>,\n",
       " <Image: ''>,\n",
       " <Image: ''>,\n",
       " <Image: ''>,\n",
       " <Image: ''>,\n",
       " <Image: 'ipython/notebook:latest'>,\n",
       " <Image: 'jupyter/minimal-notebook:latest'>,\n",
       " <Image: 'rspsink:latest'>,\n",
       " <Image: 'rsplib:latest'>,\n",
       " <Image: 'dockermonitor_grafana:latest'>,\n",
       " <Image: 'python:2.7-onbuild'>,\n",
       " <Image: 'python:2.7'>,\n",
       " <Image: 'grafana/grafana:latest', 'rspdev_grafana:latest'>,\n",
       " <Image: 'influxdb:latest'>,\n",
       " <Image: 'busybox:latest'>,\n",
       " <Image: 'kannix/monero-miner:latest'>,\n",
       " <Image: 'ubuntu:latest'>,\n",
       " <Image: 'kageurufu/debian-python:latest'>,\n",
       " <Image: 'grafana/grafana:3.1.1'>,\n",
       " <Image: 'tutum/influxdb:0.13'>,\n",
       " <Image: 'ipython/ipython:3.x'>]"
      ]
     },
     "execution_count": 5,
     "metadata": {},
     "output_type": "execute_result"
    }
   ],
   "source": [
    "client.images.list()"
   ]
  },
  {
   "cell_type": "code",
   "execution_count": null,
   "metadata": {
    "collapsed": true
   },
   "outputs": [],
   "source": []
  }
 ],
 "metadata": {
  "kernelspec": {
   "display_name": "Python 3",
   "language": "python",
   "name": "python3"
  },
  "language_info": {
   "codemirror_mode": {
    "name": "ipython",
    "version": 3
   },
   "file_extension": ".py",
   "mimetype": "text/x-python",
   "name": "python",
   "nbconvert_exporter": "python",
   "pygments_lexer": "ipython3",
   "version": "3.5.2"
  }
 },
 "nbformat": 4,
 "nbformat_minor": 2
}
